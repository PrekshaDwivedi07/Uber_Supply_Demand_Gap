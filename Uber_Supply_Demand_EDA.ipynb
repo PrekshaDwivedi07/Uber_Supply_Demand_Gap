{
  "nbformat": 4,
  "nbformat_minor": 0,
  "metadata": {
    "colab": {
      "provenance": [],
      "authorship_tag": "ABX9TyM95du7o3qR8JDTLMlT/FXu",
      "include_colab_link": true
    },
    "kernelspec": {
      "name": "python3",
      "display_name": "Python 3"
    },
    "language_info": {
      "name": "python"
    }
  },
  "cells": [
    {
      "cell_type": "markdown",
      "metadata": {
        "id": "view-in-github",
        "colab_type": "text"
      },
      "source": [
        "<a href=\"https://colab.research.google.com/github/PrekshaDwivedi07/Uber_Supply_Demand_Gap/blob/main/Uber_Supply_Demand_EDA.ipynb\" target=\"_parent\"><img src=\"https://colab.research.google.com/assets/colab-badge.svg\" alt=\"Open In Colab\"/></a>"
      ]
    },
    {
      "cell_type": "markdown",
      "source": [
        "# **Project Name** - Exploratory Data Analysis Of Uber Supply Demand Gap\n",
        "\n",
        "##### **Project Type**    - EDA/Regression/Classification/Unsupervised\n",
        "##### **Contribution**    - Individual\n"
      ],
      "metadata": {
        "id": "dKXVYftK7gbN"
      }
    },
    {
      "cell_type": "markdown",
      "source": [
        "# **Project Summary -**\n",
        "Project Overview:\n",
        "This project focuses on conducting Exploratory Data Analysis (EDA) on Uber ride request data, with the primary objective of identifying and understanding the gap between rider demand and driver supply. The analysis offers valuable insights into peak request times, trip statuses, and the underlying factors contributing to unfulfilled ride requests across different locations and time intervals.\n",
        "\n",
        "Key Activities:\n",
        "\n",
        "• Data Preparation and Cleaning:\n",
        "The dataset included ride request records containing timestamps, pickup points, driver IDs, and trip statuses. Data preprocessing involved converting timestamps to datetime format, handling missing values, and engineering new features such as time slots and hourly bins to enhance analysis.\n",
        "\n",
        "• Visualization Techniques:\n",
        "Various visualization methods were used—such as bar graphs, line charts, pivot tables, and heatmaps—to explore trends in ride request patterns, cancellation rates, and availability of cars at different times and locations.\n",
        "\n",
        "• Findings and Patterns:\n",
        "The EDA revealed several critical insights:\n",
        "\n",
        "• A significant supply-demand mismatch exists during peak hours, particularly in the early morning (5 AM – 9 AM) and evening (5 PM – 9 PM) slots.\n",
        "\n",
        "• In the morning peak, high demand at the airport often results in the \"No Cars Available\" status, indicating insufficient driver availability.\n",
        "\n",
        "• During the evening peak, many requests from the city to the airport are cancelled by drivers, possibly due to trip length or end-of-shift timing.\n",
        "\n",
        "• The city consistently sees higher trip cancellations, while the airport faces more instances of car unavailability.\n",
        "\n",
        "• The imbalance is not uniform and varies by both time of day and pickup location.\n",
        "\n",
        "This EDA provides actionable insights into Uber’s operational challenges related to supply-demand mismatches. It enables data-driven decision-making for strategies such as driver incentive programs, dynamic pricing, and resource redistribution. Future exploration could involve building predictive models to anticipate peak demand periods or optimize driver allocation in real-time."
      ],
      "metadata": {
        "id": "52dAC1ZL9PWx"
      }
    },
    {
      "cell_type": "markdown",
      "source": [
        "##GitHub Link:-\n",
        "https://github.com/PrekshaDwivedi07/Uber_Supply_Demand_Gap.git"
      ],
      "metadata": {
        "id": "YiXMFhNw9oia"
      }
    },
    {
      "cell_type": "markdown",
      "source": [
        "# **Problem Statement**-\n",
        "\n",
        "The objective of this dataset is to examine and analyze Uber ride request data to uncover critical insights about the mismatch between rider demand and driver supply, aiming to improve service availability and operational efficiency. Key areas of focus include:\n",
        "\n",
        "• Demand-Supply Imbalance:\n",
        "A core aim is to identify when and where ride requests exceed driver availability. Understanding the conditions under which trips are cancelled or result in \"No Cars Available\" statuses is essential for addressing service bottlenecks and improving rider satisfaction.\n",
        "\n",
        "• Peak Hour Analysis:\n",
        "Demand fluctuates across the day, especially during morning and evening rush hours. This analysis seeks to uncover patterns in peak-hour ride requests and the corresponding supply response, helping Uber to better allocate driver resources during critical time periods.\n",
        "\n",
        "• Location-Based Gaps:\n",
        "Trip fulfillment also varies by pickup point, with the city and airport exhibiting different supply-demand characteristics. Analyzing the geographic distribution of gaps helps target location-specific operational strategies, such as rebalancing cars or offering targeted incentives to drivers.\n",
        "\n",
        "By addressing these problem areas through data exploration and visualization, the analysis supports Uber’s efforts to reduce unfulfilled requests, enhance driver-rider matching, and optimize overall service delivery."
      ],
      "metadata": {
        "id": "kQ-rpYE9-AMk"
      }
    },
    {
      "cell_type": "markdown",
      "source": [
        "#### **Business Objective**-\n",
        "\n",
        "The primary business objective of this project is to utilize data-driven insights to support strategic decision-making for improving Uber’s ride availability, driver allocation, and customer satisfaction. By analyzing patterns in ride requests and supply shortfalls, the project aims to:\n",
        "\n",
        "Reduce the Supply-Demand Gap:\n",
        "Identify time slots and locations with high unfulfilled demand (due to cancellations or no cars available) to inform better driver deployment strategies and reduce the frequency of missed ride opportunities.\n",
        "\n",
        "Optimize Driver Allocation and Scheduling:\n",
        "Uncover peak demand periods and locations to enable more effective scheduling and positioning of drivers, ensuring optimal resource utilization and increased fulfillment rates.\n",
        "\n",
        "Enhance Rider Experience and Retention:\n",
        "Minimize trip cancellations and wait times through better supply matching, ultimately leading to improved customer satisfaction and loyalty.\n",
        "\n",
        "Support Pricing and Incentive Policies:\n",
        "Use insights from demand surges and supply shortages to design dynamic pricing models and targeted incentive programs that encourage driver availability during high-demand hours.\n",
        "\n",
        "Improve Operational Efficiency:\n",
        "Enable data-backed operational planning by identifying inefficient zones or time periods, allowing Uber to take preemptive actions to address recurring service issues.\n",
        "\n",
        "By addressing these objectives, Uber can strengthen its market presence, improve service reliability, and enhance the overall user and driver experience on the platform."
      ],
      "metadata": {
        "id": "nGTxLk30-Plb"
      }
    },
    {
      "cell_type": "markdown",
      "source": [
        "## ***Data Wrangling*** -"
      ],
      "metadata": {
        "id": "JQ3RKhZn-evA"
      }
    },
    {
      "cell_type": "code",
      "source": [
        "#import libraries\n",
        "import numpy as np\n",
        "import pandas as pd\n",
        "import matplotlib.pyplot as plt\n",
        "import seaborn as sns\n",
        "import warnings\n",
        "warnings.filterwarnings('ignore')"
      ],
      "metadata": {
        "id": "upCdYmjv-lSE"
      },
      "execution_count": null,
      "outputs": []
    },
    {
      "cell_type": "code",
      "source": [
        "data=pd.read_csv('/content/Uber Request K02.csv')"
      ],
      "metadata": {
        "id": "pvdPl1BfA6dP"
      },
      "execution_count": null,
      "outputs": []
    },
    {
      "cell_type": "code",
      "source": [
        "data.columns"
      ],
      "metadata": {
        "colab": {
          "base_uri": "https://localhost:8080/"
        },
        "id": "d_p-Qct1Bg4J",
        "outputId": "620e4374-f8af-4eca-ce6b-26162c9dbade"
      },
      "execution_count": null,
      "outputs": [
        {
          "output_type": "execute_result",
          "data": {
            "text/plain": [
              "Index(['Request id', 'Pickup point', 'Driver id', 'Status',\n",
              "       'Request timestamp', 'Drop timestamp', 'Request Date', 'Request Day',\n",
              "       'Trip Duration (mins)', 'Is Driver Assigned', 'Was Completed',\n",
              "       'Pickup_Airport', 'Request Period'],\n",
              "      dtype='object')"
            ]
          },
          "metadata": {},
          "execution_count": 57
        }
      ]
    },
    {
      "cell_type": "code",
      "source": [
        "data"
      ],
      "metadata": {
        "colab": {
          "base_uri": "https://localhost:8080/",
          "height": 825
        },
        "id": "MWnBvGHgBmle",
        "outputId": "45bbc0b4-4bd0-4a8c-f1c1-d308fd4fc04d"
      },
      "execution_count": null,
      "outputs": [
        {
          "output_type": "execute_result",
          "data": {
            "text/plain": [
              "      Request id Pickup point Driver id             Status Request timestamp  \\\n",
              "0            619      Airport         1     Trip Completed  07-11-2016 11:51   \n",
              "1            867      Airport         1     Trip Completed  07-11-2016 17:57   \n",
              "2           1807         City         1     Trip Completed  07-12-2016 09:17   \n",
              "3           2532      Airport         1     Trip Completed  07-12-2016 21:08   \n",
              "4           3112         City         1     Trip Completed  13-07-2016 08:33   \n",
              "...          ...          ...       ...                ...               ...   \n",
              "6740        6745         City       NA   No Cars Available  15-07-2016 23:49   \n",
              "6741        6752      Airport       NA   No Cars Available  15-07-2016 23:50   \n",
              "6742        6751         City       NA   No Cars Available  15-07-2016 23:52   \n",
              "6743        6754         City       NA   No Cars Available  15-07-2016 23:54   \n",
              "6744        6753      Airport       NA   No Cars Available  15-07-2016 23:55   \n",
              "\n",
              "        Drop timestamp Request Date Request Day Trip Duration (mins)  \\\n",
              "0     07-11-2016 13:00   07-11-2016      Monday                   69   \n",
              "1     07-11-2016 18:47   07-11-2016      Monday                   50   \n",
              "2     07-12-2016 09:58   07-12-2016   Wednesday                   41   \n",
              "3     07-12-2016 22:03   07-12-2016   Wednesday                   55   \n",
              "4     13-07-2016 09:25   13-07-2016   Wednesday          52.51666667   \n",
              "...                ...          ...         ...                  ...   \n",
              "6740               NA    15-07-2016      Friday                  NA    \n",
              "6741               NA    15-07-2016      Friday                  NA    \n",
              "6742               NA    15-07-2016      Friday                  NA    \n",
              "6743               NA    15-07-2016      Friday                  NA    \n",
              "6744               NA    15-07-2016      Friday                  NA    \n",
              "\n",
              "     Is Driver Assigned Was Completed  Pickup_Airport Request Period  \n",
              "0                   Yes           Yes               1        Morning  \n",
              "1                   Yes           Yes               1        Evening  \n",
              "2                   Yes           Yes               0        Morning  \n",
              "3                   Yes           Yes               1          Night  \n",
              "4                   Yes           Yes               0        Morning  \n",
              "...                 ...           ...             ...            ...  \n",
              "6740                 No            No               0          Night  \n",
              "6741                 No            No               1          Night  \n",
              "6742                 No            No               0          Night  \n",
              "6743                 No            No               0          Night  \n",
              "6744                 No            No               1          Night  \n",
              "\n",
              "[6745 rows x 13 columns]"
            ],
            "text/html": [
              "\n",
              "  <div id=\"df-7ba9ce64-b0fa-4fd9-8b53-5b1f5bf302b9\" class=\"colab-df-container\">\n",
              "    <div>\n",
              "<style scoped>\n",
              "    .dataframe tbody tr th:only-of-type {\n",
              "        vertical-align: middle;\n",
              "    }\n",
              "\n",
              "    .dataframe tbody tr th {\n",
              "        vertical-align: top;\n",
              "    }\n",
              "\n",
              "    .dataframe thead th {\n",
              "        text-align: right;\n",
              "    }\n",
              "</style>\n",
              "<table border=\"1\" class=\"dataframe\">\n",
              "  <thead>\n",
              "    <tr style=\"text-align: right;\">\n",
              "      <th></th>\n",
              "      <th>Request id</th>\n",
              "      <th>Pickup point</th>\n",
              "      <th>Driver id</th>\n",
              "      <th>Status</th>\n",
              "      <th>Request timestamp</th>\n",
              "      <th>Drop timestamp</th>\n",
              "      <th>Request Date</th>\n",
              "      <th>Request Day</th>\n",
              "      <th>Trip Duration (mins)</th>\n",
              "      <th>Is Driver Assigned</th>\n",
              "      <th>Was Completed</th>\n",
              "      <th>Pickup_Airport</th>\n",
              "      <th>Request Period</th>\n",
              "    </tr>\n",
              "  </thead>\n",
              "  <tbody>\n",
              "    <tr>\n",
              "      <th>0</th>\n",
              "      <td>619</td>\n",
              "      <td>Airport</td>\n",
              "      <td>1</td>\n",
              "      <td>Trip Completed</td>\n",
              "      <td>07-11-2016 11:51</td>\n",
              "      <td>07-11-2016 13:00</td>\n",
              "      <td>07-11-2016</td>\n",
              "      <td>Monday</td>\n",
              "      <td>69</td>\n",
              "      <td>Yes</td>\n",
              "      <td>Yes</td>\n",
              "      <td>1</td>\n",
              "      <td>Morning</td>\n",
              "    </tr>\n",
              "    <tr>\n",
              "      <th>1</th>\n",
              "      <td>867</td>\n",
              "      <td>Airport</td>\n",
              "      <td>1</td>\n",
              "      <td>Trip Completed</td>\n",
              "      <td>07-11-2016 17:57</td>\n",
              "      <td>07-11-2016 18:47</td>\n",
              "      <td>07-11-2016</td>\n",
              "      <td>Monday</td>\n",
              "      <td>50</td>\n",
              "      <td>Yes</td>\n",
              "      <td>Yes</td>\n",
              "      <td>1</td>\n",
              "      <td>Evening</td>\n",
              "    </tr>\n",
              "    <tr>\n",
              "      <th>2</th>\n",
              "      <td>1807</td>\n",
              "      <td>City</td>\n",
              "      <td>1</td>\n",
              "      <td>Trip Completed</td>\n",
              "      <td>07-12-2016 09:17</td>\n",
              "      <td>07-12-2016 09:58</td>\n",
              "      <td>07-12-2016</td>\n",
              "      <td>Wednesday</td>\n",
              "      <td>41</td>\n",
              "      <td>Yes</td>\n",
              "      <td>Yes</td>\n",
              "      <td>0</td>\n",
              "      <td>Morning</td>\n",
              "    </tr>\n",
              "    <tr>\n",
              "      <th>3</th>\n",
              "      <td>2532</td>\n",
              "      <td>Airport</td>\n",
              "      <td>1</td>\n",
              "      <td>Trip Completed</td>\n",
              "      <td>07-12-2016 21:08</td>\n",
              "      <td>07-12-2016 22:03</td>\n",
              "      <td>07-12-2016</td>\n",
              "      <td>Wednesday</td>\n",
              "      <td>55</td>\n",
              "      <td>Yes</td>\n",
              "      <td>Yes</td>\n",
              "      <td>1</td>\n",
              "      <td>Night</td>\n",
              "    </tr>\n",
              "    <tr>\n",
              "      <th>4</th>\n",
              "      <td>3112</td>\n",
              "      <td>City</td>\n",
              "      <td>1</td>\n",
              "      <td>Trip Completed</td>\n",
              "      <td>13-07-2016 08:33</td>\n",
              "      <td>13-07-2016 09:25</td>\n",
              "      <td>13-07-2016</td>\n",
              "      <td>Wednesday</td>\n",
              "      <td>52.51666667</td>\n",
              "      <td>Yes</td>\n",
              "      <td>Yes</td>\n",
              "      <td>0</td>\n",
              "      <td>Morning</td>\n",
              "    </tr>\n",
              "    <tr>\n",
              "      <th>...</th>\n",
              "      <td>...</td>\n",
              "      <td>...</td>\n",
              "      <td>...</td>\n",
              "      <td>...</td>\n",
              "      <td>...</td>\n",
              "      <td>...</td>\n",
              "      <td>...</td>\n",
              "      <td>...</td>\n",
              "      <td>...</td>\n",
              "      <td>...</td>\n",
              "      <td>...</td>\n",
              "      <td>...</td>\n",
              "      <td>...</td>\n",
              "    </tr>\n",
              "    <tr>\n",
              "      <th>6740</th>\n",
              "      <td>6745</td>\n",
              "      <td>City</td>\n",
              "      <td>NA</td>\n",
              "      <td>No Cars Available</td>\n",
              "      <td>15-07-2016 23:49</td>\n",
              "      <td>NA</td>\n",
              "      <td>15-07-2016</td>\n",
              "      <td>Friday</td>\n",
              "      <td>NA</td>\n",
              "      <td>No</td>\n",
              "      <td>No</td>\n",
              "      <td>0</td>\n",
              "      <td>Night</td>\n",
              "    </tr>\n",
              "    <tr>\n",
              "      <th>6741</th>\n",
              "      <td>6752</td>\n",
              "      <td>Airport</td>\n",
              "      <td>NA</td>\n",
              "      <td>No Cars Available</td>\n",
              "      <td>15-07-2016 23:50</td>\n",
              "      <td>NA</td>\n",
              "      <td>15-07-2016</td>\n",
              "      <td>Friday</td>\n",
              "      <td>NA</td>\n",
              "      <td>No</td>\n",
              "      <td>No</td>\n",
              "      <td>1</td>\n",
              "      <td>Night</td>\n",
              "    </tr>\n",
              "    <tr>\n",
              "      <th>6742</th>\n",
              "      <td>6751</td>\n",
              "      <td>City</td>\n",
              "      <td>NA</td>\n",
              "      <td>No Cars Available</td>\n",
              "      <td>15-07-2016 23:52</td>\n",
              "      <td>NA</td>\n",
              "      <td>15-07-2016</td>\n",
              "      <td>Friday</td>\n",
              "      <td>NA</td>\n",
              "      <td>No</td>\n",
              "      <td>No</td>\n",
              "      <td>0</td>\n",
              "      <td>Night</td>\n",
              "    </tr>\n",
              "    <tr>\n",
              "      <th>6743</th>\n",
              "      <td>6754</td>\n",
              "      <td>City</td>\n",
              "      <td>NA</td>\n",
              "      <td>No Cars Available</td>\n",
              "      <td>15-07-2016 23:54</td>\n",
              "      <td>NA</td>\n",
              "      <td>15-07-2016</td>\n",
              "      <td>Friday</td>\n",
              "      <td>NA</td>\n",
              "      <td>No</td>\n",
              "      <td>No</td>\n",
              "      <td>0</td>\n",
              "      <td>Night</td>\n",
              "    </tr>\n",
              "    <tr>\n",
              "      <th>6744</th>\n",
              "      <td>6753</td>\n",
              "      <td>Airport</td>\n",
              "      <td>NA</td>\n",
              "      <td>No Cars Available</td>\n",
              "      <td>15-07-2016 23:55</td>\n",
              "      <td>NA</td>\n",
              "      <td>15-07-2016</td>\n",
              "      <td>Friday</td>\n",
              "      <td>NA</td>\n",
              "      <td>No</td>\n",
              "      <td>No</td>\n",
              "      <td>1</td>\n",
              "      <td>Night</td>\n",
              "    </tr>\n",
              "  </tbody>\n",
              "</table>\n",
              "<p>6745 rows × 13 columns</p>\n",
              "</div>\n",
              "    <div class=\"colab-df-buttons\">\n",
              "\n",
              "  <div class=\"colab-df-container\">\n",
              "    <button class=\"colab-df-convert\" onclick=\"convertToInteractive('df-7ba9ce64-b0fa-4fd9-8b53-5b1f5bf302b9')\"\n",
              "            title=\"Convert this dataframe to an interactive table.\"\n",
              "            style=\"display:none;\">\n",
              "\n",
              "  <svg xmlns=\"http://www.w3.org/2000/svg\" height=\"24px\" viewBox=\"0 -960 960 960\">\n",
              "    <path d=\"M120-120v-720h720v720H120Zm60-500h600v-160H180v160Zm220 220h160v-160H400v160Zm0 220h160v-160H400v160ZM180-400h160v-160H180v160Zm440 0h160v-160H620v160ZM180-180h160v-160H180v160Zm440 0h160v-160H620v160Z\"/>\n",
              "  </svg>\n",
              "    </button>\n",
              "\n",
              "  <style>\n",
              "    .colab-df-container {\n",
              "      display:flex;\n",
              "      gap: 12px;\n",
              "    }\n",
              "\n",
              "    .colab-df-convert {\n",
              "      background-color: #E8F0FE;\n",
              "      border: none;\n",
              "      border-radius: 50%;\n",
              "      cursor: pointer;\n",
              "      display: none;\n",
              "      fill: #1967D2;\n",
              "      height: 32px;\n",
              "      padding: 0 0 0 0;\n",
              "      width: 32px;\n",
              "    }\n",
              "\n",
              "    .colab-df-convert:hover {\n",
              "      background-color: #E2EBFA;\n",
              "      box-shadow: 0px 1px 2px rgba(60, 64, 67, 0.3), 0px 1px 3px 1px rgba(60, 64, 67, 0.15);\n",
              "      fill: #174EA6;\n",
              "    }\n",
              "\n",
              "    .colab-df-buttons div {\n",
              "      margin-bottom: 4px;\n",
              "    }\n",
              "\n",
              "    [theme=dark] .colab-df-convert {\n",
              "      background-color: #3B4455;\n",
              "      fill: #D2E3FC;\n",
              "    }\n",
              "\n",
              "    [theme=dark] .colab-df-convert:hover {\n",
              "      background-color: #434B5C;\n",
              "      box-shadow: 0px 1px 3px 1px rgba(0, 0, 0, 0.15);\n",
              "      filter: drop-shadow(0px 1px 2px rgba(0, 0, 0, 0.3));\n",
              "      fill: #FFFFFF;\n",
              "    }\n",
              "  </style>\n",
              "\n",
              "    <script>\n",
              "      const buttonEl =\n",
              "        document.querySelector('#df-7ba9ce64-b0fa-4fd9-8b53-5b1f5bf302b9 button.colab-df-convert');\n",
              "      buttonEl.style.display =\n",
              "        google.colab.kernel.accessAllowed ? 'block' : 'none';\n",
              "\n",
              "      async function convertToInteractive(key) {\n",
              "        const element = document.querySelector('#df-7ba9ce64-b0fa-4fd9-8b53-5b1f5bf302b9');\n",
              "        const dataTable =\n",
              "          await google.colab.kernel.invokeFunction('convertToInteractive',\n",
              "                                                    [key], {});\n",
              "        if (!dataTable) return;\n",
              "\n",
              "        const docLinkHtml = 'Like what you see? Visit the ' +\n",
              "          '<a target=\"_blank\" href=https://colab.research.google.com/notebooks/data_table.ipynb>data table notebook</a>'\n",
              "          + ' to learn more about interactive tables.';\n",
              "        element.innerHTML = '';\n",
              "        dataTable['output_type'] = 'display_data';\n",
              "        await google.colab.output.renderOutput(dataTable, element);\n",
              "        const docLink = document.createElement('div');\n",
              "        docLink.innerHTML = docLinkHtml;\n",
              "        element.appendChild(docLink);\n",
              "      }\n",
              "    </script>\n",
              "  </div>\n",
              "\n",
              "\n",
              "    <div id=\"df-2f5a07b2-ea59-463d-a1c0-68329c209311\">\n",
              "      <button class=\"colab-df-quickchart\" onclick=\"quickchart('df-2f5a07b2-ea59-463d-a1c0-68329c209311')\"\n",
              "                title=\"Suggest charts\"\n",
              "                style=\"display:none;\">\n",
              "\n",
              "<svg xmlns=\"http://www.w3.org/2000/svg\" height=\"24px\"viewBox=\"0 0 24 24\"\n",
              "     width=\"24px\">\n",
              "    <g>\n",
              "        <path d=\"M19 3H5c-1.1 0-2 .9-2 2v14c0 1.1.9 2 2 2h14c1.1 0 2-.9 2-2V5c0-1.1-.9-2-2-2zM9 17H7v-7h2v7zm4 0h-2V7h2v10zm4 0h-2v-4h2v4z\"/>\n",
              "    </g>\n",
              "</svg>\n",
              "      </button>\n",
              "\n",
              "<style>\n",
              "  .colab-df-quickchart {\n",
              "      --bg-color: #E8F0FE;\n",
              "      --fill-color: #1967D2;\n",
              "      --hover-bg-color: #E2EBFA;\n",
              "      --hover-fill-color: #174EA6;\n",
              "      --disabled-fill-color: #AAA;\n",
              "      --disabled-bg-color: #DDD;\n",
              "  }\n",
              "\n",
              "  [theme=dark] .colab-df-quickchart {\n",
              "      --bg-color: #3B4455;\n",
              "      --fill-color: #D2E3FC;\n",
              "      --hover-bg-color: #434B5C;\n",
              "      --hover-fill-color: #FFFFFF;\n",
              "      --disabled-bg-color: #3B4455;\n",
              "      --disabled-fill-color: #666;\n",
              "  }\n",
              "\n",
              "  .colab-df-quickchart {\n",
              "    background-color: var(--bg-color);\n",
              "    border: none;\n",
              "    border-radius: 50%;\n",
              "    cursor: pointer;\n",
              "    display: none;\n",
              "    fill: var(--fill-color);\n",
              "    height: 32px;\n",
              "    padding: 0;\n",
              "    width: 32px;\n",
              "  }\n",
              "\n",
              "  .colab-df-quickchart:hover {\n",
              "    background-color: var(--hover-bg-color);\n",
              "    box-shadow: 0 1px 2px rgba(60, 64, 67, 0.3), 0 1px 3px 1px rgba(60, 64, 67, 0.15);\n",
              "    fill: var(--button-hover-fill-color);\n",
              "  }\n",
              "\n",
              "  .colab-df-quickchart-complete:disabled,\n",
              "  .colab-df-quickchart-complete:disabled:hover {\n",
              "    background-color: var(--disabled-bg-color);\n",
              "    fill: var(--disabled-fill-color);\n",
              "    box-shadow: none;\n",
              "  }\n",
              "\n",
              "  .colab-df-spinner {\n",
              "    border: 2px solid var(--fill-color);\n",
              "    border-color: transparent;\n",
              "    border-bottom-color: var(--fill-color);\n",
              "    animation:\n",
              "      spin 1s steps(1) infinite;\n",
              "  }\n",
              "\n",
              "  @keyframes spin {\n",
              "    0% {\n",
              "      border-color: transparent;\n",
              "      border-bottom-color: var(--fill-color);\n",
              "      border-left-color: var(--fill-color);\n",
              "    }\n",
              "    20% {\n",
              "      border-color: transparent;\n",
              "      border-left-color: var(--fill-color);\n",
              "      border-top-color: var(--fill-color);\n",
              "    }\n",
              "    30% {\n",
              "      border-color: transparent;\n",
              "      border-left-color: var(--fill-color);\n",
              "      border-top-color: var(--fill-color);\n",
              "      border-right-color: var(--fill-color);\n",
              "    }\n",
              "    40% {\n",
              "      border-color: transparent;\n",
              "      border-right-color: var(--fill-color);\n",
              "      border-top-color: var(--fill-color);\n",
              "    }\n",
              "    60% {\n",
              "      border-color: transparent;\n",
              "      border-right-color: var(--fill-color);\n",
              "    }\n",
              "    80% {\n",
              "      border-color: transparent;\n",
              "      border-right-color: var(--fill-color);\n",
              "      border-bottom-color: var(--fill-color);\n",
              "    }\n",
              "    90% {\n",
              "      border-color: transparent;\n",
              "      border-bottom-color: var(--fill-color);\n",
              "    }\n",
              "  }\n",
              "</style>\n",
              "\n",
              "      <script>\n",
              "        async function quickchart(key) {\n",
              "          const quickchartButtonEl =\n",
              "            document.querySelector('#' + key + ' button');\n",
              "          quickchartButtonEl.disabled = true;  // To prevent multiple clicks.\n",
              "          quickchartButtonEl.classList.add('colab-df-spinner');\n",
              "          try {\n",
              "            const charts = await google.colab.kernel.invokeFunction(\n",
              "                'suggestCharts', [key], {});\n",
              "          } catch (error) {\n",
              "            console.error('Error during call to suggestCharts:', error);\n",
              "          }\n",
              "          quickchartButtonEl.classList.remove('colab-df-spinner');\n",
              "          quickchartButtonEl.classList.add('colab-df-quickchart-complete');\n",
              "        }\n",
              "        (() => {\n",
              "          let quickchartButtonEl =\n",
              "            document.querySelector('#df-2f5a07b2-ea59-463d-a1c0-68329c209311 button');\n",
              "          quickchartButtonEl.style.display =\n",
              "            google.colab.kernel.accessAllowed ? 'block' : 'none';\n",
              "        })();\n",
              "      </script>\n",
              "    </div>\n",
              "\n",
              "  <div id=\"id_fa7a4869-039e-4afc-8569-cb29e5ae18e1\">\n",
              "    <style>\n",
              "      .colab-df-generate {\n",
              "        background-color: #E8F0FE;\n",
              "        border: none;\n",
              "        border-radius: 50%;\n",
              "        cursor: pointer;\n",
              "        display: none;\n",
              "        fill: #1967D2;\n",
              "        height: 32px;\n",
              "        padding: 0 0 0 0;\n",
              "        width: 32px;\n",
              "      }\n",
              "\n",
              "      .colab-df-generate:hover {\n",
              "        background-color: #E2EBFA;\n",
              "        box-shadow: 0px 1px 2px rgba(60, 64, 67, 0.3), 0px 1px 3px 1px rgba(60, 64, 67, 0.15);\n",
              "        fill: #174EA6;\n",
              "      }\n",
              "\n",
              "      [theme=dark] .colab-df-generate {\n",
              "        background-color: #3B4455;\n",
              "        fill: #D2E3FC;\n",
              "      }\n",
              "\n",
              "      [theme=dark] .colab-df-generate:hover {\n",
              "        background-color: #434B5C;\n",
              "        box-shadow: 0px 1px 3px 1px rgba(0, 0, 0, 0.15);\n",
              "        filter: drop-shadow(0px 1px 2px rgba(0, 0, 0, 0.3));\n",
              "        fill: #FFFFFF;\n",
              "      }\n",
              "    </style>\n",
              "    <button class=\"colab-df-generate\" onclick=\"generateWithVariable('data')\"\n",
              "            title=\"Generate code using this dataframe.\"\n",
              "            style=\"display:none;\">\n",
              "\n",
              "  <svg xmlns=\"http://www.w3.org/2000/svg\" height=\"24px\"viewBox=\"0 0 24 24\"\n",
              "       width=\"24px\">\n",
              "    <path d=\"M7,19H8.4L18.45,9,17,7.55,7,17.6ZM5,21V16.75L18.45,3.32a2,2,0,0,1,2.83,0l1.4,1.43a1.91,1.91,0,0,1,.58,1.4,1.91,1.91,0,0,1-.58,1.4L9.25,21ZM18.45,9,17,7.55Zm-12,3A5.31,5.31,0,0,0,4.9,8.1,5.31,5.31,0,0,0,1,6.5,5.31,5.31,0,0,0,4.9,4.9,5.31,5.31,0,0,0,6.5,1,5.31,5.31,0,0,0,8.1,4.9,5.31,5.31,0,0,0,12,6.5,5.46,5.46,0,0,0,6.5,12Z\"/>\n",
              "  </svg>\n",
              "    </button>\n",
              "    <script>\n",
              "      (() => {\n",
              "      const buttonEl =\n",
              "        document.querySelector('#id_fa7a4869-039e-4afc-8569-cb29e5ae18e1 button.colab-df-generate');\n",
              "      buttonEl.style.display =\n",
              "        google.colab.kernel.accessAllowed ? 'block' : 'none';\n",
              "\n",
              "      buttonEl.onclick = () => {\n",
              "        google.colab.notebook.generateWithVariable('data');\n",
              "      }\n",
              "      })();\n",
              "    </script>\n",
              "  </div>\n",
              "\n",
              "    </div>\n",
              "  </div>\n"
            ],
            "application/vnd.google.colaboratory.intrinsic+json": {
              "type": "dataframe",
              "variable_name": "data",
              "summary": "{\n  \"name\": \"data\",\n  \"rows\": 6745,\n  \"fields\": [\n    {\n      \"column\": \"Request id\",\n      \"properties\": {\n        \"dtype\": \"number\",\n        \"std\": 1955,\n        \"min\": 1,\n        \"max\": 6766,\n        \"num_unique_values\": 6745,\n        \"samples\": [\n          2761,\n          1342,\n          44\n        ],\n        \"semantic_type\": \"\",\n        \"description\": \"\"\n      }\n    },\n    {\n      \"column\": \"Pickup point\",\n      \"properties\": {\n        \"dtype\": \"category\",\n        \"num_unique_values\": 2,\n        \"samples\": [\n          \"City\",\n          \"Airport\"\n        ],\n        \"semantic_type\": \"\",\n        \"description\": \"\"\n      }\n    },\n    {\n      \"column\": \"Driver id\",\n      \"properties\": {\n        \"dtype\": \"category\",\n        \"num_unique_values\": 301,\n        \"samples\": [\n          \"178\",\n          \"290\"\n        ],\n        \"semantic_type\": \"\",\n        \"description\": \"\"\n      }\n    },\n    {\n      \"column\": \"Status\",\n      \"properties\": {\n        \"dtype\": \"category\",\n        \"num_unique_values\": 3,\n        \"samples\": [\n          \"Trip Completed\",\n          \"Cancelled\"\n        ],\n        \"semantic_type\": \"\",\n        \"description\": \"\"\n      }\n    },\n    {\n      \"column\": \"Request timestamp\",\n      \"properties\": {\n        \"dtype\": \"string\",\n        \"num_unique_values\": 4016,\n        \"samples\": [\n          \"14-07-2016 18:36\",\n          \"13-07-2016 12:02\"\n        ],\n        \"semantic_type\": \"\",\n        \"description\": \"\"\n      }\n    },\n    {\n      \"column\": \"Drop timestamp\",\n      \"properties\": {\n        \"dtype\": \"category\",\n        \"num_unique_values\": 2283,\n        \"samples\": [\n          \"13-07-2016 23:52\",\n          \"13-07-2016 14:04\"\n        ],\n        \"semantic_type\": \"\",\n        \"description\": \"\"\n      }\n    },\n    {\n      \"column\": \"Request Date\",\n      \"properties\": {\n        \"dtype\": \"category\",\n        \"num_unique_values\": 5,\n        \"samples\": [\n          \"07-12-2016\",\n          \"15-07-2016\"\n        ],\n        \"semantic_type\": \"\",\n        \"description\": \"\"\n      }\n    },\n    {\n      \"column\": \"Request Day\",\n      \"properties\": {\n        \"dtype\": \"category\",\n        \"num_unique_values\": 4,\n        \"samples\": [\n          \"Wednesday\",\n          \"Friday\"\n        ],\n        \"semantic_type\": \"\",\n        \"description\": \"\"\n      }\n    },\n    {\n      \"column\": \"Trip Duration (mins)\",\n      \"properties\": {\n        \"dtype\": \"category\",\n        \"num_unique_values\": 1349,\n        \"samples\": [\n          \"54.21666667\",\n          \"68.61666667\"\n        ],\n        \"semantic_type\": \"\",\n        \"description\": \"\"\n      }\n    },\n    {\n      \"column\": \"Is Driver Assigned\",\n      \"properties\": {\n        \"dtype\": \"category\",\n        \"num_unique_values\": 2,\n        \"samples\": [\n          \"No\",\n          \"Yes\"\n        ],\n        \"semantic_type\": \"\",\n        \"description\": \"\"\n      }\n    },\n    {\n      \"column\": \"Was Completed\",\n      \"properties\": {\n        \"dtype\": \"category\",\n        \"num_unique_values\": 2,\n        \"samples\": [\n          \"No\",\n          \"Yes\"\n        ],\n        \"semantic_type\": \"\",\n        \"description\": \"\"\n      }\n    },\n    {\n      \"column\": \"Pickup_Airport\",\n      \"properties\": {\n        \"dtype\": \"number\",\n        \"std\": 0,\n        \"min\": 0,\n        \"max\": 1,\n        \"num_unique_values\": 2,\n        \"samples\": [\n          0,\n          1\n        ],\n        \"semantic_type\": \"\",\n        \"description\": \"\"\n      }\n    },\n    {\n      \"column\": \"Request Period\",\n      \"properties\": {\n        \"dtype\": \"category\",\n        \"num_unique_values\": 4,\n        \"samples\": [\n          \"Evening\",\n          \"Afternoon\"\n        ],\n        \"semantic_type\": \"\",\n        \"description\": \"\"\n      }\n    }\n  ]\n}"
            }
          },
          "metadata": {},
          "execution_count": 58
        }
      ]
    },
    {
      "cell_type": "code",
      "source": [
        "data.shape"
      ],
      "metadata": {
        "colab": {
          "base_uri": "https://localhost:8080/"
        },
        "id": "uslM3alIDYd-",
        "outputId": "0764c801-afa3-4fe6-a274-9fd4a0436ce1"
      },
      "execution_count": null,
      "outputs": [
        {
          "output_type": "execute_result",
          "data": {
            "text/plain": [
              "(6745, 13)"
            ]
          },
          "metadata": {},
          "execution_count": 60
        }
      ]
    },
    {
      "cell_type": "code",
      "source": [
        "data.info()"
      ],
      "metadata": {
        "colab": {
          "base_uri": "https://localhost:8080/"
        },
        "id": "2IAveZlGDfwU",
        "outputId": "a50abf3c-2190-4681-a1c8-02c3b007f21a"
      },
      "execution_count": null,
      "outputs": [
        {
          "output_type": "stream",
          "name": "stdout",
          "text": [
            "<class 'pandas.core.frame.DataFrame'>\n",
            "RangeIndex: 6745 entries, 0 to 6744\n",
            "Data columns (total 13 columns):\n",
            " #   Column                Non-Null Count  Dtype \n",
            "---  ------                --------------  ----- \n",
            " 0   Request id            6745 non-null   int64 \n",
            " 1   Pickup point          6745 non-null   object\n",
            " 2   Driver id             6745 non-null   object\n",
            " 3   Status                6745 non-null   object\n",
            " 4   Request timestamp     6745 non-null   object\n",
            " 5   Drop timestamp        6745 non-null   object\n",
            " 6   Request Date          6745 non-null   object\n",
            " 7   Request Day           6745 non-null   object\n",
            " 8   Trip Duration (mins)  6745 non-null   object\n",
            " 9   Is Driver Assigned    6745 non-null   object\n",
            " 10  Was Completed         6745 non-null   object\n",
            " 11  Pickup_Airport        6745 non-null   int64 \n",
            " 12  Request Period        6745 non-null   object\n",
            "dtypes: int64(2), object(11)\n",
            "memory usage: 685.2+ KB\n"
          ]
        }
      ]
    },
    {
      "cell_type": "markdown",
      "source": [
        "### Dataset Description\n",
        "\n",
        "This dataset comprises *6,745 ride request entries* collected from a ride-hailing platform (such as Uber), focusing on pickup details, driver assignments, trip completion, and timestamps. It is primarily designed for analyzing the *supply-demand dynamics* in urban transportation, identifying peak demand hours, cancellation patterns, and driver availability.\n",
        "\n",
        "The dataset includes key information about when and where requests were made, whether they were fulfilled, the time taken for each trip, and other engineered fields to facilitate time-based analysis.\n",
        "\n",
        "###Column Descriptions\n",
        "\n",
        "| Column Name              | Description                                                                                                                                             |\n",
        "| ------------------------ | ------------------------------------------------------------------------------------------------------------------------------------------------------- |\n",
        "| *Request id*           | A unique numeric identifier for each ride request.                                                                                                      |\n",
        "| *Pickup point*         | Indicates the pickup location, typically \"City\" or \"Airport\". This is useful in identifying geographic trends in demand and supply.                     |\n",
        "| *Driver id*            | An identifier for the driver assigned to a request. If a driver wasn’t assigned, this field remains empty.                                              |\n",
        "| *Status*               | Represents the final status of the ride — options include *\"Trip Completed\", **\"Cancelled\", or **\"No Cars Available\"*.                            |\n",
        "| *Request timestamp*    | The exact date and time when the user made the ride request.                                                                                            |\n",
        "| *Drop timestamp*       | The time when the ride was completed. This field may be empty if the trip wasn’t completed.                                                             |\n",
        "| *Request Date*         | Extracted from the request timestamp, this field shows the calendar date of the request (e.g., 2016-07-11).                                             |\n",
        "| *Request Day*          | The day of the week on which the request was made (e.g., Monday, Tuesday). Useful for analyzing weekly demand patterns.                                 |\n",
        "| *Trip Duration (mins)* | Duration of the trip in minutes. This is calculated based on the request and drop timestamps. It may be blank or zero for unfulfilled requests.         |\n",
        "| *Is Driver Assigned*   | A derived boolean-like field that indicates whether a driver was assigned (Yes) or not (No) to a request.                                           |\n",
        "| *Was Completed*        | Another derived field that shows whether the ride was successfully completed or not.                                                                    |\n",
        "| *Pickup\\_Airport*      | A binary indicator where 1 denotes an airport pickup and 0 represents a city pickup. Created for simplified location-based filtering.               |\n",
        "| *Request Period*       | Categorizes the request time into broader slots like *Early Morning, **Morning, **Afternoon, **Evening*, etc., helping analyze temporal trends. |"
      ],
      "metadata": {
        "id": "8VCQxqhVD_vq"
      }
    },
    {
      "cell_type": "markdown",
      "source": [
        "###Finding duplicates and removing duplicates"
      ],
      "metadata": {
        "id": "fDmGopY1GcFE"
      }
    },
    {
      "cell_type": "code",
      "source": [
        "data.duplicated().value_counts()"
      ],
      "metadata": {
        "colab": {
          "base_uri": "https://localhost:8080/",
          "height": 115
        },
        "id": "jVIIMIpED56N",
        "outputId": "922b184d-8fa7-4347-8b7a-2acb6371b66c"
      },
      "execution_count": null,
      "outputs": [
        {
          "output_type": "execute_result",
          "data": {
            "text/plain": [
              "False    6745\n",
              "Name: count, dtype: int64"
            ],
            "text/html": [
              "<div>\n",
              "<style scoped>\n",
              "    .dataframe tbody tr th:only-of-type {\n",
              "        vertical-align: middle;\n",
              "    }\n",
              "\n",
              "    .dataframe tbody tr th {\n",
              "        vertical-align: top;\n",
              "    }\n",
              "\n",
              "    .dataframe thead th {\n",
              "        text-align: right;\n",
              "    }\n",
              "</style>\n",
              "<table border=\"1\" class=\"dataframe\">\n",
              "  <thead>\n",
              "    <tr style=\"text-align: right;\">\n",
              "      <th></th>\n",
              "      <th>count</th>\n",
              "    </tr>\n",
              "  </thead>\n",
              "  <tbody>\n",
              "    <tr>\n",
              "      <th>False</th>\n",
              "      <td>6745</td>\n",
              "    </tr>\n",
              "  </tbody>\n",
              "</table>\n",
              "</div><br><label><b>dtype:</b> int64</label>"
            ]
          },
          "metadata": {},
          "execution_count": 62
        }
      ]
    },
    {
      "cell_type": "markdown",
      "source": [
        "#### Missing Values/Null Values"
      ],
      "metadata": {
        "id": "lkhSEPzoGqYh"
      }
    },
    {
      "cell_type": "code",
      "source": [
        "data.isnull().sum()"
      ],
      "metadata": {
        "colab": {
          "base_uri": "https://localhost:8080/",
          "height": 491
        },
        "id": "X1prmgkkGrMw",
        "outputId": "fde23b3b-0846-4dad-9fe4-61ce409602eb"
      },
      "execution_count": null,
      "outputs": [
        {
          "output_type": "execute_result",
          "data": {
            "text/plain": [
              "Request id              0\n",
              "Pickup point            0\n",
              "Driver id               0\n",
              "Status                  0\n",
              "Request timestamp       0\n",
              "Drop timestamp          0\n",
              "Request Date            0\n",
              "Request Day             0\n",
              "Trip Duration (mins)    0\n",
              "Is Driver Assigned      0\n",
              "Was Completed           0\n",
              "Pickup_Airport          0\n",
              "Request Period          0\n",
              "dtype: int64"
            ],
            "text/html": [
              "<div>\n",
              "<style scoped>\n",
              "    .dataframe tbody tr th:only-of-type {\n",
              "        vertical-align: middle;\n",
              "    }\n",
              "\n",
              "    .dataframe tbody tr th {\n",
              "        vertical-align: top;\n",
              "    }\n",
              "\n",
              "    .dataframe thead th {\n",
              "        text-align: right;\n",
              "    }\n",
              "</style>\n",
              "<table border=\"1\" class=\"dataframe\">\n",
              "  <thead>\n",
              "    <tr style=\"text-align: right;\">\n",
              "      <th></th>\n",
              "      <th>0</th>\n",
              "    </tr>\n",
              "  </thead>\n",
              "  <tbody>\n",
              "    <tr>\n",
              "      <th>Request id</th>\n",
              "      <td>0</td>\n",
              "    </tr>\n",
              "    <tr>\n",
              "      <th>Pickup point</th>\n",
              "      <td>0</td>\n",
              "    </tr>\n",
              "    <tr>\n",
              "      <th>Driver id</th>\n",
              "      <td>0</td>\n",
              "    </tr>\n",
              "    <tr>\n",
              "      <th>Status</th>\n",
              "      <td>0</td>\n",
              "    </tr>\n",
              "    <tr>\n",
              "      <th>Request timestamp</th>\n",
              "      <td>0</td>\n",
              "    </tr>\n",
              "    <tr>\n",
              "      <th>Drop timestamp</th>\n",
              "      <td>0</td>\n",
              "    </tr>\n",
              "    <tr>\n",
              "      <th>Request Date</th>\n",
              "      <td>0</td>\n",
              "    </tr>\n",
              "    <tr>\n",
              "      <th>Request Day</th>\n",
              "      <td>0</td>\n",
              "    </tr>\n",
              "    <tr>\n",
              "      <th>Trip Duration (mins)</th>\n",
              "      <td>0</td>\n",
              "    </tr>\n",
              "    <tr>\n",
              "      <th>Is Driver Assigned</th>\n",
              "      <td>0</td>\n",
              "    </tr>\n",
              "    <tr>\n",
              "      <th>Was Completed</th>\n",
              "      <td>0</td>\n",
              "    </tr>\n",
              "    <tr>\n",
              "      <th>Pickup_Airport</th>\n",
              "      <td>0</td>\n",
              "    </tr>\n",
              "    <tr>\n",
              "      <th>Request Period</th>\n",
              "      <td>0</td>\n",
              "    </tr>\n",
              "  </tbody>\n",
              "</table>\n",
              "</div><br><label><b>dtype:</b> int64</label>"
            ]
          },
          "metadata": {},
          "execution_count": 63
        }
      ]
    },
    {
      "cell_type": "markdown",
      "source": [
        "###We don't have any duplicte and missing/null values in the dataset"
      ],
      "metadata": {
        "id": "MTO_C7Q3Il0x"
      }
    },
    {
      "cell_type": "code",
      "source": [
        "data.dtypes"
      ],
      "metadata": {
        "colab": {
          "base_uri": "https://localhost:8080/",
          "height": 491
        },
        "id": "p12UOcLNG995",
        "outputId": "0697248d-49bf-4914-9d57-6781c3464c0e"
      },
      "execution_count": null,
      "outputs": [
        {
          "output_type": "execute_result",
          "data": {
            "text/plain": [
              "Request id               int64\n",
              "Pickup point            object\n",
              "Driver id               object\n",
              "Status                  object\n",
              "Request timestamp       object\n",
              "Drop timestamp          object\n",
              "Request Date            object\n",
              "Request Day             object\n",
              "Trip Duration (mins)    object\n",
              "Is Driver Assigned      object\n",
              "Was Completed           object\n",
              "Pickup_Airport           int64\n",
              "Request Period          object\n",
              "dtype: object"
            ],
            "text/html": [
              "<div>\n",
              "<style scoped>\n",
              "    .dataframe tbody tr th:only-of-type {\n",
              "        vertical-align: middle;\n",
              "    }\n",
              "\n",
              "    .dataframe tbody tr th {\n",
              "        vertical-align: top;\n",
              "    }\n",
              "\n",
              "    .dataframe thead th {\n",
              "        text-align: right;\n",
              "    }\n",
              "</style>\n",
              "<table border=\"1\" class=\"dataframe\">\n",
              "  <thead>\n",
              "    <tr style=\"text-align: right;\">\n",
              "      <th></th>\n",
              "      <th>0</th>\n",
              "    </tr>\n",
              "  </thead>\n",
              "  <tbody>\n",
              "    <tr>\n",
              "      <th>Request id</th>\n",
              "      <td>int64</td>\n",
              "    </tr>\n",
              "    <tr>\n",
              "      <th>Pickup point</th>\n",
              "      <td>object</td>\n",
              "    </tr>\n",
              "    <tr>\n",
              "      <th>Driver id</th>\n",
              "      <td>object</td>\n",
              "    </tr>\n",
              "    <tr>\n",
              "      <th>Status</th>\n",
              "      <td>object</td>\n",
              "    </tr>\n",
              "    <tr>\n",
              "      <th>Request timestamp</th>\n",
              "      <td>object</td>\n",
              "    </tr>\n",
              "    <tr>\n",
              "      <th>Drop timestamp</th>\n",
              "      <td>object</td>\n",
              "    </tr>\n",
              "    <tr>\n",
              "      <th>Request Date</th>\n",
              "      <td>object</td>\n",
              "    </tr>\n",
              "    <tr>\n",
              "      <th>Request Day</th>\n",
              "      <td>object</td>\n",
              "    </tr>\n",
              "    <tr>\n",
              "      <th>Trip Duration (mins)</th>\n",
              "      <td>object</td>\n",
              "    </tr>\n",
              "    <tr>\n",
              "      <th>Is Driver Assigned</th>\n",
              "      <td>object</td>\n",
              "    </tr>\n",
              "    <tr>\n",
              "      <th>Was Completed</th>\n",
              "      <td>object</td>\n",
              "    </tr>\n",
              "    <tr>\n",
              "      <th>Pickup_Airport</th>\n",
              "      <td>int64</td>\n",
              "    </tr>\n",
              "    <tr>\n",
              "      <th>Request Period</th>\n",
              "      <td>object</td>\n",
              "    </tr>\n",
              "  </tbody>\n",
              "</table>\n",
              "</div><br><label><b>dtype:</b> object</label>"
            ]
          },
          "metadata": {},
          "execution_count": 64
        }
      ]
    },
    {
      "cell_type": "code",
      "source": [
        "data.describe()"
      ],
      "metadata": {
        "colab": {
          "base_uri": "https://localhost:8080/",
          "height": 300
        },
        "id": "JSVliDDiH4mr",
        "outputId": "e9bf8b46-b1cd-4d1c-cf47-06042a2cd34d"
      },
      "execution_count": null,
      "outputs": [
        {
          "output_type": "execute_result",
          "data": {
            "text/plain": [
              "        Request id  Pickup_Airport\n",
              "count  6745.000000     6745.000000\n",
              "mean   3384.644922        0.480059\n",
              "std    1955.099667        0.499639\n",
              "min       1.000000        0.000000\n",
              "25%    1691.000000        0.000000\n",
              "50%    3387.000000        0.000000\n",
              "75%    5080.000000        1.000000\n",
              "max    6766.000000        1.000000"
            ],
            "text/html": [
              "\n",
              "  <div id=\"df-c8150300-0f74-47ab-bbd2-1146878ad0b1\" class=\"colab-df-container\">\n",
              "    <div>\n",
              "<style scoped>\n",
              "    .dataframe tbody tr th:only-of-type {\n",
              "        vertical-align: middle;\n",
              "    }\n",
              "\n",
              "    .dataframe tbody tr th {\n",
              "        vertical-align: top;\n",
              "    }\n",
              "\n",
              "    .dataframe thead th {\n",
              "        text-align: right;\n",
              "    }\n",
              "</style>\n",
              "<table border=\"1\" class=\"dataframe\">\n",
              "  <thead>\n",
              "    <tr style=\"text-align: right;\">\n",
              "      <th></th>\n",
              "      <th>Request id</th>\n",
              "      <th>Pickup_Airport</th>\n",
              "    </tr>\n",
              "  </thead>\n",
              "  <tbody>\n",
              "    <tr>\n",
              "      <th>count</th>\n",
              "      <td>6745.000000</td>\n",
              "      <td>6745.000000</td>\n",
              "    </tr>\n",
              "    <tr>\n",
              "      <th>mean</th>\n",
              "      <td>3384.644922</td>\n",
              "      <td>0.480059</td>\n",
              "    </tr>\n",
              "    <tr>\n",
              "      <th>std</th>\n",
              "      <td>1955.099667</td>\n",
              "      <td>0.499639</td>\n",
              "    </tr>\n",
              "    <tr>\n",
              "      <th>min</th>\n",
              "      <td>1.000000</td>\n",
              "      <td>0.000000</td>\n",
              "    </tr>\n",
              "    <tr>\n",
              "      <th>25%</th>\n",
              "      <td>1691.000000</td>\n",
              "      <td>0.000000</td>\n",
              "    </tr>\n",
              "    <tr>\n",
              "      <th>50%</th>\n",
              "      <td>3387.000000</td>\n",
              "      <td>0.000000</td>\n",
              "    </tr>\n",
              "    <tr>\n",
              "      <th>75%</th>\n",
              "      <td>5080.000000</td>\n",
              "      <td>1.000000</td>\n",
              "    </tr>\n",
              "    <tr>\n",
              "      <th>max</th>\n",
              "      <td>6766.000000</td>\n",
              "      <td>1.000000</td>\n",
              "    </tr>\n",
              "  </tbody>\n",
              "</table>\n",
              "</div>\n",
              "    <div class=\"colab-df-buttons\">\n",
              "\n",
              "  <div class=\"colab-df-container\">\n",
              "    <button class=\"colab-df-convert\" onclick=\"convertToInteractive('df-c8150300-0f74-47ab-bbd2-1146878ad0b1')\"\n",
              "            title=\"Convert this dataframe to an interactive table.\"\n",
              "            style=\"display:none;\">\n",
              "\n",
              "  <svg xmlns=\"http://www.w3.org/2000/svg\" height=\"24px\" viewBox=\"0 -960 960 960\">\n",
              "    <path d=\"M120-120v-720h720v720H120Zm60-500h600v-160H180v160Zm220 220h160v-160H400v160Zm0 220h160v-160H400v160ZM180-400h160v-160H180v160Zm440 0h160v-160H620v160ZM180-180h160v-160H180v160Zm440 0h160v-160H620v160Z\"/>\n",
              "  </svg>\n",
              "    </button>\n",
              "\n",
              "  <style>\n",
              "    .colab-df-container {\n",
              "      display:flex;\n",
              "      gap: 12px;\n",
              "    }\n",
              "\n",
              "    .colab-df-convert {\n",
              "      background-color: #E8F0FE;\n",
              "      border: none;\n",
              "      border-radius: 50%;\n",
              "      cursor: pointer;\n",
              "      display: none;\n",
              "      fill: #1967D2;\n",
              "      height: 32px;\n",
              "      padding: 0 0 0 0;\n",
              "      width: 32px;\n",
              "    }\n",
              "\n",
              "    .colab-df-convert:hover {\n",
              "      background-color: #E2EBFA;\n",
              "      box-shadow: 0px 1px 2px rgba(60, 64, 67, 0.3), 0px 1px 3px 1px rgba(60, 64, 67, 0.15);\n",
              "      fill: #174EA6;\n",
              "    }\n",
              "\n",
              "    .colab-df-buttons div {\n",
              "      margin-bottom: 4px;\n",
              "    }\n",
              "\n",
              "    [theme=dark] .colab-df-convert {\n",
              "      background-color: #3B4455;\n",
              "      fill: #D2E3FC;\n",
              "    }\n",
              "\n",
              "    [theme=dark] .colab-df-convert:hover {\n",
              "      background-color: #434B5C;\n",
              "      box-shadow: 0px 1px 3px 1px rgba(0, 0, 0, 0.15);\n",
              "      filter: drop-shadow(0px 1px 2px rgba(0, 0, 0, 0.3));\n",
              "      fill: #FFFFFF;\n",
              "    }\n",
              "  </style>\n",
              "\n",
              "    <script>\n",
              "      const buttonEl =\n",
              "        document.querySelector('#df-c8150300-0f74-47ab-bbd2-1146878ad0b1 button.colab-df-convert');\n",
              "      buttonEl.style.display =\n",
              "        google.colab.kernel.accessAllowed ? 'block' : 'none';\n",
              "\n",
              "      async function convertToInteractive(key) {\n",
              "        const element = document.querySelector('#df-c8150300-0f74-47ab-bbd2-1146878ad0b1');\n",
              "        const dataTable =\n",
              "          await google.colab.kernel.invokeFunction('convertToInteractive',\n",
              "                                                    [key], {});\n",
              "        if (!dataTable) return;\n",
              "\n",
              "        const docLinkHtml = 'Like what you see? Visit the ' +\n",
              "          '<a target=\"_blank\" href=https://colab.research.google.com/notebooks/data_table.ipynb>data table notebook</a>'\n",
              "          + ' to learn more about interactive tables.';\n",
              "        element.innerHTML = '';\n",
              "        dataTable['output_type'] = 'display_data';\n",
              "        await google.colab.output.renderOutput(dataTable, element);\n",
              "        const docLink = document.createElement('div');\n",
              "        docLink.innerHTML = docLinkHtml;\n",
              "        element.appendChild(docLink);\n",
              "      }\n",
              "    </script>\n",
              "  </div>\n",
              "\n",
              "\n",
              "    <div id=\"df-530e5b3c-3533-40a1-a9c4-24248f37370c\">\n",
              "      <button class=\"colab-df-quickchart\" onclick=\"quickchart('df-530e5b3c-3533-40a1-a9c4-24248f37370c')\"\n",
              "                title=\"Suggest charts\"\n",
              "                style=\"display:none;\">\n",
              "\n",
              "<svg xmlns=\"http://www.w3.org/2000/svg\" height=\"24px\"viewBox=\"0 0 24 24\"\n",
              "     width=\"24px\">\n",
              "    <g>\n",
              "        <path d=\"M19 3H5c-1.1 0-2 .9-2 2v14c0 1.1.9 2 2 2h14c1.1 0 2-.9 2-2V5c0-1.1-.9-2-2-2zM9 17H7v-7h2v7zm4 0h-2V7h2v10zm4 0h-2v-4h2v4z\"/>\n",
              "    </g>\n",
              "</svg>\n",
              "      </button>\n",
              "\n",
              "<style>\n",
              "  .colab-df-quickchart {\n",
              "      --bg-color: #E8F0FE;\n",
              "      --fill-color: #1967D2;\n",
              "      --hover-bg-color: #E2EBFA;\n",
              "      --hover-fill-color: #174EA6;\n",
              "      --disabled-fill-color: #AAA;\n",
              "      --disabled-bg-color: #DDD;\n",
              "  }\n",
              "\n",
              "  [theme=dark] .colab-df-quickchart {\n",
              "      --bg-color: #3B4455;\n",
              "      --fill-color: #D2E3FC;\n",
              "      --hover-bg-color: #434B5C;\n",
              "      --hover-fill-color: #FFFFFF;\n",
              "      --disabled-bg-color: #3B4455;\n",
              "      --disabled-fill-color: #666;\n",
              "  }\n",
              "\n",
              "  .colab-df-quickchart {\n",
              "    background-color: var(--bg-color);\n",
              "    border: none;\n",
              "    border-radius: 50%;\n",
              "    cursor: pointer;\n",
              "    display: none;\n",
              "    fill: var(--fill-color);\n",
              "    height: 32px;\n",
              "    padding: 0;\n",
              "    width: 32px;\n",
              "  }\n",
              "\n",
              "  .colab-df-quickchart:hover {\n",
              "    background-color: var(--hover-bg-color);\n",
              "    box-shadow: 0 1px 2px rgba(60, 64, 67, 0.3), 0 1px 3px 1px rgba(60, 64, 67, 0.15);\n",
              "    fill: var(--button-hover-fill-color);\n",
              "  }\n",
              "\n",
              "  .colab-df-quickchart-complete:disabled,\n",
              "  .colab-df-quickchart-complete:disabled:hover {\n",
              "    background-color: var(--disabled-bg-color);\n",
              "    fill: var(--disabled-fill-color);\n",
              "    box-shadow: none;\n",
              "  }\n",
              "\n",
              "  .colab-df-spinner {\n",
              "    border: 2px solid var(--fill-color);\n",
              "    border-color: transparent;\n",
              "    border-bottom-color: var(--fill-color);\n",
              "    animation:\n",
              "      spin 1s steps(1) infinite;\n",
              "  }\n",
              "\n",
              "  @keyframes spin {\n",
              "    0% {\n",
              "      border-color: transparent;\n",
              "      border-bottom-color: var(--fill-color);\n",
              "      border-left-color: var(--fill-color);\n",
              "    }\n",
              "    20% {\n",
              "      border-color: transparent;\n",
              "      border-left-color: var(--fill-color);\n",
              "      border-top-color: var(--fill-color);\n",
              "    }\n",
              "    30% {\n",
              "      border-color: transparent;\n",
              "      border-left-color: var(--fill-color);\n",
              "      border-top-color: var(--fill-color);\n",
              "      border-right-color: var(--fill-color);\n",
              "    }\n",
              "    40% {\n",
              "      border-color: transparent;\n",
              "      border-right-color: var(--fill-color);\n",
              "      border-top-color: var(--fill-color);\n",
              "    }\n",
              "    60% {\n",
              "      border-color: transparent;\n",
              "      border-right-color: var(--fill-color);\n",
              "    }\n",
              "    80% {\n",
              "      border-color: transparent;\n",
              "      border-right-color: var(--fill-color);\n",
              "      border-bottom-color: var(--fill-color);\n",
              "    }\n",
              "    90% {\n",
              "      border-color: transparent;\n",
              "      border-bottom-color: var(--fill-color);\n",
              "    }\n",
              "  }\n",
              "</style>\n",
              "\n",
              "      <script>\n",
              "        async function quickchart(key) {\n",
              "          const quickchartButtonEl =\n",
              "            document.querySelector('#' + key + ' button');\n",
              "          quickchartButtonEl.disabled = true;  // To prevent multiple clicks.\n",
              "          quickchartButtonEl.classList.add('colab-df-spinner');\n",
              "          try {\n",
              "            const charts = await google.colab.kernel.invokeFunction(\n",
              "                'suggestCharts', [key], {});\n",
              "          } catch (error) {\n",
              "            console.error('Error during call to suggestCharts:', error);\n",
              "          }\n",
              "          quickchartButtonEl.classList.remove('colab-df-spinner');\n",
              "          quickchartButtonEl.classList.add('colab-df-quickchart-complete');\n",
              "        }\n",
              "        (() => {\n",
              "          let quickchartButtonEl =\n",
              "            document.querySelector('#df-530e5b3c-3533-40a1-a9c4-24248f37370c button');\n",
              "          quickchartButtonEl.style.display =\n",
              "            google.colab.kernel.accessAllowed ? 'block' : 'none';\n",
              "        })();\n",
              "      </script>\n",
              "    </div>\n",
              "\n",
              "    </div>\n",
              "  </div>\n"
            ],
            "application/vnd.google.colaboratory.intrinsic+json": {
              "type": "dataframe",
              "summary": "{\n  \"name\": \"data\",\n  \"rows\": 8,\n  \"fields\": [\n    {\n      \"column\": \"Request id\",\n      \"properties\": {\n        \"dtype\": \"number\",\n        \"std\": 2434.690001275002,\n        \"min\": 1.0,\n        \"max\": 6766.0,\n        \"num_unique_values\": 8,\n        \"samples\": [\n          3384.644922164566,\n          3387.0,\n          6745.0\n        ],\n        \"semantic_type\": \"\",\n        \"description\": \"\"\n      }\n    },\n    {\n      \"column\": \"Pickup_Airport\",\n      \"properties\": {\n        \"dtype\": \"number\",\n        \"std\": 2384.567158344508,\n        \"min\": 0.0,\n        \"max\": 6745.0,\n        \"num_unique_values\": 5,\n        \"samples\": [\n          0.4800593031875463,\n          1.0,\n          0.499639249497095\n        ],\n        \"semantic_type\": \"\",\n        \"description\": \"\"\n      }\n    }\n  ]\n}"
            }
          },
          "metadata": {},
          "execution_count": 65
        }
      ]
    },
    {
      "cell_type": "markdown",
      "source": [
        "As we can see dataset is clean and ready for further analysis, The manipulations performed on given data are as follows,\n",
        "\n",
        "Data Loading\n",
        "\n",
        "Handling Missing Values:\n",
        "\n",
        "• We dont have any null values soo we dont need to do anything"
      ],
      "metadata": {
        "id": "NUJ4vllbJ9Lg"
      }
    },
    {
      "cell_type": "markdown",
      "source": [
        "## ***Data Vizualization, Storytelling & Experimenting with charts : Understand the relationships between variables***"
      ],
      "metadata": {
        "id": "Rl7Lk2f0KFT9"
      }
    },
    {
      "cell_type": "markdown",
      "source": [
        "Data visualization is the graphical representation of information and data. By using visual elements like charts, graphs, and maps, data visualization tools provide an accessible way to see and understand trends, outliers, and patterns in data."
      ],
      "metadata": {
        "id": "KNkYWwReKXxL"
      }
    },
    {
      "cell_type": "markdown",
      "source": [
        "##Univariate Analysis"
      ],
      "metadata": {
        "id": "_XxkW2JrKfLB"
      }
    },
    {
      "cell_type": "code",
      "source": [
        "data"
      ],
      "metadata": {
        "colab": {
          "base_uri": "https://localhost:8080/",
          "height": 825
        },
        "id": "56HitTCwLMQe",
        "outputId": "eefaee82-d9ce-42d9-f49a-0211ff7544ca"
      },
      "execution_count": null,
      "outputs": [
        {
          "output_type": "execute_result",
          "data": {
            "text/plain": [
              "      Request id Pickup point Driver id             Status Request timestamp  \\\n",
              "0            619      Airport         1     Trip Completed  07-11-2016 11:51   \n",
              "1            867      Airport         1     Trip Completed  07-11-2016 17:57   \n",
              "2           1807         City         1     Trip Completed  07-12-2016 09:17   \n",
              "3           2532      Airport         1     Trip Completed  07-12-2016 21:08   \n",
              "4           3112         City         1     Trip Completed  13-07-2016 08:33   \n",
              "...          ...          ...       ...                ...               ...   \n",
              "6740        6745         City       NA   No Cars Available  15-07-2016 23:49   \n",
              "6741        6752      Airport       NA   No Cars Available  15-07-2016 23:50   \n",
              "6742        6751         City       NA   No Cars Available  15-07-2016 23:52   \n",
              "6743        6754         City       NA   No Cars Available  15-07-2016 23:54   \n",
              "6744        6753      Airport       NA   No Cars Available  15-07-2016 23:55   \n",
              "\n",
              "        Drop timestamp Request Date Request Day Trip Duration (mins)  \\\n",
              "0     07-11-2016 13:00   07-11-2016      Monday                   69   \n",
              "1     07-11-2016 18:47   07-11-2016      Monday                   50   \n",
              "2     07-12-2016 09:58   07-12-2016   Wednesday                   41   \n",
              "3     07-12-2016 22:03   07-12-2016   Wednesday                   55   \n",
              "4     13-07-2016 09:25   13-07-2016   Wednesday          52.51666667   \n",
              "...                ...          ...         ...                  ...   \n",
              "6740               NA    15-07-2016      Friday                  NA    \n",
              "6741               NA    15-07-2016      Friday                  NA    \n",
              "6742               NA    15-07-2016      Friday                  NA    \n",
              "6743               NA    15-07-2016      Friday                  NA    \n",
              "6744               NA    15-07-2016      Friday                  NA    \n",
              "\n",
              "     Is Driver Assigned Was Completed  Pickup_Airport Request Period  \n",
              "0                   Yes           Yes               1        Morning  \n",
              "1                   Yes           Yes               1        Evening  \n",
              "2                   Yes           Yes               0        Morning  \n",
              "3                   Yes           Yes               1          Night  \n",
              "4                   Yes           Yes               0        Morning  \n",
              "...                 ...           ...             ...            ...  \n",
              "6740                 No            No               0          Night  \n",
              "6741                 No            No               1          Night  \n",
              "6742                 No            No               0          Night  \n",
              "6743                 No            No               0          Night  \n",
              "6744                 No            No               1          Night  \n",
              "\n",
              "[6745 rows x 13 columns]"
            ],
            "text/html": [
              "\n",
              "  <div id=\"df-5201fbfa-d59d-4e77-b121-7aa80b35a5df\" class=\"colab-df-container\">\n",
              "    <div>\n",
              "<style scoped>\n",
              "    .dataframe tbody tr th:only-of-type {\n",
              "        vertical-align: middle;\n",
              "    }\n",
              "\n",
              "    .dataframe tbody tr th {\n",
              "        vertical-align: top;\n",
              "    }\n",
              "\n",
              "    .dataframe thead th {\n",
              "        text-align: right;\n",
              "    }\n",
              "</style>\n",
              "<table border=\"1\" class=\"dataframe\">\n",
              "  <thead>\n",
              "    <tr style=\"text-align: right;\">\n",
              "      <th></th>\n",
              "      <th>Request id</th>\n",
              "      <th>Pickup point</th>\n",
              "      <th>Driver id</th>\n",
              "      <th>Status</th>\n",
              "      <th>Request timestamp</th>\n",
              "      <th>Drop timestamp</th>\n",
              "      <th>Request Date</th>\n",
              "      <th>Request Day</th>\n",
              "      <th>Trip Duration (mins)</th>\n",
              "      <th>Is Driver Assigned</th>\n",
              "      <th>Was Completed</th>\n",
              "      <th>Pickup_Airport</th>\n",
              "      <th>Request Period</th>\n",
              "    </tr>\n",
              "  </thead>\n",
              "  <tbody>\n",
              "    <tr>\n",
              "      <th>0</th>\n",
              "      <td>619</td>\n",
              "      <td>Airport</td>\n",
              "      <td>1</td>\n",
              "      <td>Trip Completed</td>\n",
              "      <td>07-11-2016 11:51</td>\n",
              "      <td>07-11-2016 13:00</td>\n",
              "      <td>07-11-2016</td>\n",
              "      <td>Monday</td>\n",
              "      <td>69</td>\n",
              "      <td>Yes</td>\n",
              "      <td>Yes</td>\n",
              "      <td>1</td>\n",
              "      <td>Morning</td>\n",
              "    </tr>\n",
              "    <tr>\n",
              "      <th>1</th>\n",
              "      <td>867</td>\n",
              "      <td>Airport</td>\n",
              "      <td>1</td>\n",
              "      <td>Trip Completed</td>\n",
              "      <td>07-11-2016 17:57</td>\n",
              "      <td>07-11-2016 18:47</td>\n",
              "      <td>07-11-2016</td>\n",
              "      <td>Monday</td>\n",
              "      <td>50</td>\n",
              "      <td>Yes</td>\n",
              "      <td>Yes</td>\n",
              "      <td>1</td>\n",
              "      <td>Evening</td>\n",
              "    </tr>\n",
              "    <tr>\n",
              "      <th>2</th>\n",
              "      <td>1807</td>\n",
              "      <td>City</td>\n",
              "      <td>1</td>\n",
              "      <td>Trip Completed</td>\n",
              "      <td>07-12-2016 09:17</td>\n",
              "      <td>07-12-2016 09:58</td>\n",
              "      <td>07-12-2016</td>\n",
              "      <td>Wednesday</td>\n",
              "      <td>41</td>\n",
              "      <td>Yes</td>\n",
              "      <td>Yes</td>\n",
              "      <td>0</td>\n",
              "      <td>Morning</td>\n",
              "    </tr>\n",
              "    <tr>\n",
              "      <th>3</th>\n",
              "      <td>2532</td>\n",
              "      <td>Airport</td>\n",
              "      <td>1</td>\n",
              "      <td>Trip Completed</td>\n",
              "      <td>07-12-2016 21:08</td>\n",
              "      <td>07-12-2016 22:03</td>\n",
              "      <td>07-12-2016</td>\n",
              "      <td>Wednesday</td>\n",
              "      <td>55</td>\n",
              "      <td>Yes</td>\n",
              "      <td>Yes</td>\n",
              "      <td>1</td>\n",
              "      <td>Night</td>\n",
              "    </tr>\n",
              "    <tr>\n",
              "      <th>4</th>\n",
              "      <td>3112</td>\n",
              "      <td>City</td>\n",
              "      <td>1</td>\n",
              "      <td>Trip Completed</td>\n",
              "      <td>13-07-2016 08:33</td>\n",
              "      <td>13-07-2016 09:25</td>\n",
              "      <td>13-07-2016</td>\n",
              "      <td>Wednesday</td>\n",
              "      <td>52.51666667</td>\n",
              "      <td>Yes</td>\n",
              "      <td>Yes</td>\n",
              "      <td>0</td>\n",
              "      <td>Morning</td>\n",
              "    </tr>\n",
              "    <tr>\n",
              "      <th>...</th>\n",
              "      <td>...</td>\n",
              "      <td>...</td>\n",
              "      <td>...</td>\n",
              "      <td>...</td>\n",
              "      <td>...</td>\n",
              "      <td>...</td>\n",
              "      <td>...</td>\n",
              "      <td>...</td>\n",
              "      <td>...</td>\n",
              "      <td>...</td>\n",
              "      <td>...</td>\n",
              "      <td>...</td>\n",
              "      <td>...</td>\n",
              "    </tr>\n",
              "    <tr>\n",
              "      <th>6740</th>\n",
              "      <td>6745</td>\n",
              "      <td>City</td>\n",
              "      <td>NA</td>\n",
              "      <td>No Cars Available</td>\n",
              "      <td>15-07-2016 23:49</td>\n",
              "      <td>NA</td>\n",
              "      <td>15-07-2016</td>\n",
              "      <td>Friday</td>\n",
              "      <td>NA</td>\n",
              "      <td>No</td>\n",
              "      <td>No</td>\n",
              "      <td>0</td>\n",
              "      <td>Night</td>\n",
              "    </tr>\n",
              "    <tr>\n",
              "      <th>6741</th>\n",
              "      <td>6752</td>\n",
              "      <td>Airport</td>\n",
              "      <td>NA</td>\n",
              "      <td>No Cars Available</td>\n",
              "      <td>15-07-2016 23:50</td>\n",
              "      <td>NA</td>\n",
              "      <td>15-07-2016</td>\n",
              "      <td>Friday</td>\n",
              "      <td>NA</td>\n",
              "      <td>No</td>\n",
              "      <td>No</td>\n",
              "      <td>1</td>\n",
              "      <td>Night</td>\n",
              "    </tr>\n",
              "    <tr>\n",
              "      <th>6742</th>\n",
              "      <td>6751</td>\n",
              "      <td>City</td>\n",
              "      <td>NA</td>\n",
              "      <td>No Cars Available</td>\n",
              "      <td>15-07-2016 23:52</td>\n",
              "      <td>NA</td>\n",
              "      <td>15-07-2016</td>\n",
              "      <td>Friday</td>\n",
              "      <td>NA</td>\n",
              "      <td>No</td>\n",
              "      <td>No</td>\n",
              "      <td>0</td>\n",
              "      <td>Night</td>\n",
              "    </tr>\n",
              "    <tr>\n",
              "      <th>6743</th>\n",
              "      <td>6754</td>\n",
              "      <td>City</td>\n",
              "      <td>NA</td>\n",
              "      <td>No Cars Available</td>\n",
              "      <td>15-07-2016 23:54</td>\n",
              "      <td>NA</td>\n",
              "      <td>15-07-2016</td>\n",
              "      <td>Friday</td>\n",
              "      <td>NA</td>\n",
              "      <td>No</td>\n",
              "      <td>No</td>\n",
              "      <td>0</td>\n",
              "      <td>Night</td>\n",
              "    </tr>\n",
              "    <tr>\n",
              "      <th>6744</th>\n",
              "      <td>6753</td>\n",
              "      <td>Airport</td>\n",
              "      <td>NA</td>\n",
              "      <td>No Cars Available</td>\n",
              "      <td>15-07-2016 23:55</td>\n",
              "      <td>NA</td>\n",
              "      <td>15-07-2016</td>\n",
              "      <td>Friday</td>\n",
              "      <td>NA</td>\n",
              "      <td>No</td>\n",
              "      <td>No</td>\n",
              "      <td>1</td>\n",
              "      <td>Night</td>\n",
              "    </tr>\n",
              "  </tbody>\n",
              "</table>\n",
              "<p>6745 rows × 13 columns</p>\n",
              "</div>\n",
              "    <div class=\"colab-df-buttons\">\n",
              "\n",
              "  <div class=\"colab-df-container\">\n",
              "    <button class=\"colab-df-convert\" onclick=\"convertToInteractive('df-5201fbfa-d59d-4e77-b121-7aa80b35a5df')\"\n",
              "            title=\"Convert this dataframe to an interactive table.\"\n",
              "            style=\"display:none;\">\n",
              "\n",
              "  <svg xmlns=\"http://www.w3.org/2000/svg\" height=\"24px\" viewBox=\"0 -960 960 960\">\n",
              "    <path d=\"M120-120v-720h720v720H120Zm60-500h600v-160H180v160Zm220 220h160v-160H400v160Zm0 220h160v-160H400v160ZM180-400h160v-160H180v160Zm440 0h160v-160H620v160ZM180-180h160v-160H180v160Zm440 0h160v-160H620v160Z\"/>\n",
              "  </svg>\n",
              "    </button>\n",
              "\n",
              "  <style>\n",
              "    .colab-df-container {\n",
              "      display:flex;\n",
              "      gap: 12px;\n",
              "    }\n",
              "\n",
              "    .colab-df-convert {\n",
              "      background-color: #E8F0FE;\n",
              "      border: none;\n",
              "      border-radius: 50%;\n",
              "      cursor: pointer;\n",
              "      display: none;\n",
              "      fill: #1967D2;\n",
              "      height: 32px;\n",
              "      padding: 0 0 0 0;\n",
              "      width: 32px;\n",
              "    }\n",
              "\n",
              "    .colab-df-convert:hover {\n",
              "      background-color: #E2EBFA;\n",
              "      box-shadow: 0px 1px 2px rgba(60, 64, 67, 0.3), 0px 1px 3px 1px rgba(60, 64, 67, 0.15);\n",
              "      fill: #174EA6;\n",
              "    }\n",
              "\n",
              "    .colab-df-buttons div {\n",
              "      margin-bottom: 4px;\n",
              "    }\n",
              "\n",
              "    [theme=dark] .colab-df-convert {\n",
              "      background-color: #3B4455;\n",
              "      fill: #D2E3FC;\n",
              "    }\n",
              "\n",
              "    [theme=dark] .colab-df-convert:hover {\n",
              "      background-color: #434B5C;\n",
              "      box-shadow: 0px 1px 3px 1px rgba(0, 0, 0, 0.15);\n",
              "      filter: drop-shadow(0px 1px 2px rgba(0, 0, 0, 0.3));\n",
              "      fill: #FFFFFF;\n",
              "    }\n",
              "  </style>\n",
              "\n",
              "    <script>\n",
              "      const buttonEl =\n",
              "        document.querySelector('#df-5201fbfa-d59d-4e77-b121-7aa80b35a5df button.colab-df-convert');\n",
              "      buttonEl.style.display =\n",
              "        google.colab.kernel.accessAllowed ? 'block' : 'none';\n",
              "\n",
              "      async function convertToInteractive(key) {\n",
              "        const element = document.querySelector('#df-5201fbfa-d59d-4e77-b121-7aa80b35a5df');\n",
              "        const dataTable =\n",
              "          await google.colab.kernel.invokeFunction('convertToInteractive',\n",
              "                                                    [key], {});\n",
              "        if (!dataTable) return;\n",
              "\n",
              "        const docLinkHtml = 'Like what you see? Visit the ' +\n",
              "          '<a target=\"_blank\" href=https://colab.research.google.com/notebooks/data_table.ipynb>data table notebook</a>'\n",
              "          + ' to learn more about interactive tables.';\n",
              "        element.innerHTML = '';\n",
              "        dataTable['output_type'] = 'display_data';\n",
              "        await google.colab.output.renderOutput(dataTable, element);\n",
              "        const docLink = document.createElement('div');\n",
              "        docLink.innerHTML = docLinkHtml;\n",
              "        element.appendChild(docLink);\n",
              "      }\n",
              "    </script>\n",
              "  </div>\n",
              "\n",
              "\n",
              "    <div id=\"df-29d12649-8b9a-4cb5-b747-f7db49766709\">\n",
              "      <button class=\"colab-df-quickchart\" onclick=\"quickchart('df-29d12649-8b9a-4cb5-b747-f7db49766709')\"\n",
              "                title=\"Suggest charts\"\n",
              "                style=\"display:none;\">\n",
              "\n",
              "<svg xmlns=\"http://www.w3.org/2000/svg\" height=\"24px\"viewBox=\"0 0 24 24\"\n",
              "     width=\"24px\">\n",
              "    <g>\n",
              "        <path d=\"M19 3H5c-1.1 0-2 .9-2 2v14c0 1.1.9 2 2 2h14c1.1 0 2-.9 2-2V5c0-1.1-.9-2-2-2zM9 17H7v-7h2v7zm4 0h-2V7h2v10zm4 0h-2v-4h2v4z\"/>\n",
              "    </g>\n",
              "</svg>\n",
              "      </button>\n",
              "\n",
              "<style>\n",
              "  .colab-df-quickchart {\n",
              "      --bg-color: #E8F0FE;\n",
              "      --fill-color: #1967D2;\n",
              "      --hover-bg-color: #E2EBFA;\n",
              "      --hover-fill-color: #174EA6;\n",
              "      --disabled-fill-color: #AAA;\n",
              "      --disabled-bg-color: #DDD;\n",
              "  }\n",
              "\n",
              "  [theme=dark] .colab-df-quickchart {\n",
              "      --bg-color: #3B4455;\n",
              "      --fill-color: #D2E3FC;\n",
              "      --hover-bg-color: #434B5C;\n",
              "      --hover-fill-color: #FFFFFF;\n",
              "      --disabled-bg-color: #3B4455;\n",
              "      --disabled-fill-color: #666;\n",
              "  }\n",
              "\n",
              "  .colab-df-quickchart {\n",
              "    background-color: var(--bg-color);\n",
              "    border: none;\n",
              "    border-radius: 50%;\n",
              "    cursor: pointer;\n",
              "    display: none;\n",
              "    fill: var(--fill-color);\n",
              "    height: 32px;\n",
              "    padding: 0;\n",
              "    width: 32px;\n",
              "  }\n",
              "\n",
              "  .colab-df-quickchart:hover {\n",
              "    background-color: var(--hover-bg-color);\n",
              "    box-shadow: 0 1px 2px rgba(60, 64, 67, 0.3), 0 1px 3px 1px rgba(60, 64, 67, 0.15);\n",
              "    fill: var(--button-hover-fill-color);\n",
              "  }\n",
              "\n",
              "  .colab-df-quickchart-complete:disabled,\n",
              "  .colab-df-quickchart-complete:disabled:hover {\n",
              "    background-color: var(--disabled-bg-color);\n",
              "    fill: var(--disabled-fill-color);\n",
              "    box-shadow: none;\n",
              "  }\n",
              "\n",
              "  .colab-df-spinner {\n",
              "    border: 2px solid var(--fill-color);\n",
              "    border-color: transparent;\n",
              "    border-bottom-color: var(--fill-color);\n",
              "    animation:\n",
              "      spin 1s steps(1) infinite;\n",
              "  }\n",
              "\n",
              "  @keyframes spin {\n",
              "    0% {\n",
              "      border-color: transparent;\n",
              "      border-bottom-color: var(--fill-color);\n",
              "      border-left-color: var(--fill-color);\n",
              "    }\n",
              "    20% {\n",
              "      border-color: transparent;\n",
              "      border-left-color: var(--fill-color);\n",
              "      border-top-color: var(--fill-color);\n",
              "    }\n",
              "    30% {\n",
              "      border-color: transparent;\n",
              "      border-left-color: var(--fill-color);\n",
              "      border-top-color: var(--fill-color);\n",
              "      border-right-color: var(--fill-color);\n",
              "    }\n",
              "    40% {\n",
              "      border-color: transparent;\n",
              "      border-right-color: var(--fill-color);\n",
              "      border-top-color: var(--fill-color);\n",
              "    }\n",
              "    60% {\n",
              "      border-color: transparent;\n",
              "      border-right-color: var(--fill-color);\n",
              "    }\n",
              "    80% {\n",
              "      border-color: transparent;\n",
              "      border-right-color: var(--fill-color);\n",
              "      border-bottom-color: var(--fill-color);\n",
              "    }\n",
              "    90% {\n",
              "      border-color: transparent;\n",
              "      border-bottom-color: var(--fill-color);\n",
              "    }\n",
              "  }\n",
              "</style>\n",
              "\n",
              "      <script>\n",
              "        async function quickchart(key) {\n",
              "          const quickchartButtonEl =\n",
              "            document.querySelector('#' + key + ' button');\n",
              "          quickchartButtonEl.disabled = true;  // To prevent multiple clicks.\n",
              "          quickchartButtonEl.classList.add('colab-df-spinner');\n",
              "          try {\n",
              "            const charts = await google.colab.kernel.invokeFunction(\n",
              "                'suggestCharts', [key], {});\n",
              "          } catch (error) {\n",
              "            console.error('Error during call to suggestCharts:', error);\n",
              "          }\n",
              "          quickchartButtonEl.classList.remove('colab-df-spinner');\n",
              "          quickchartButtonEl.classList.add('colab-df-quickchart-complete');\n",
              "        }\n",
              "        (() => {\n",
              "          let quickchartButtonEl =\n",
              "            document.querySelector('#df-29d12649-8b9a-4cb5-b747-f7db49766709 button');\n",
              "          quickchartButtonEl.style.display =\n",
              "            google.colab.kernel.accessAllowed ? 'block' : 'none';\n",
              "        })();\n",
              "      </script>\n",
              "    </div>\n",
              "\n",
              "  <div id=\"id_5fa0544e-6e0f-47c2-8b76-0a732b7afe78\">\n",
              "    <style>\n",
              "      .colab-df-generate {\n",
              "        background-color: #E8F0FE;\n",
              "        border: none;\n",
              "        border-radius: 50%;\n",
              "        cursor: pointer;\n",
              "        display: none;\n",
              "        fill: #1967D2;\n",
              "        height: 32px;\n",
              "        padding: 0 0 0 0;\n",
              "        width: 32px;\n",
              "      }\n",
              "\n",
              "      .colab-df-generate:hover {\n",
              "        background-color: #E2EBFA;\n",
              "        box-shadow: 0px 1px 2px rgba(60, 64, 67, 0.3), 0px 1px 3px 1px rgba(60, 64, 67, 0.15);\n",
              "        fill: #174EA6;\n",
              "      }\n",
              "\n",
              "      [theme=dark] .colab-df-generate {\n",
              "        background-color: #3B4455;\n",
              "        fill: #D2E3FC;\n",
              "      }\n",
              "\n",
              "      [theme=dark] .colab-df-generate:hover {\n",
              "        background-color: #434B5C;\n",
              "        box-shadow: 0px 1px 3px 1px rgba(0, 0, 0, 0.15);\n",
              "        filter: drop-shadow(0px 1px 2px rgba(0, 0, 0, 0.3));\n",
              "        fill: #FFFFFF;\n",
              "      }\n",
              "    </style>\n",
              "    <button class=\"colab-df-generate\" onclick=\"generateWithVariable('data')\"\n",
              "            title=\"Generate code using this dataframe.\"\n",
              "            style=\"display:none;\">\n",
              "\n",
              "  <svg xmlns=\"http://www.w3.org/2000/svg\" height=\"24px\"viewBox=\"0 0 24 24\"\n",
              "       width=\"24px\">\n",
              "    <path d=\"M7,19H8.4L18.45,9,17,7.55,7,17.6ZM5,21V16.75L18.45,3.32a2,2,0,0,1,2.83,0l1.4,1.43a1.91,1.91,0,0,1,.58,1.4,1.91,1.91,0,0,1-.58,1.4L9.25,21ZM18.45,9,17,7.55Zm-12,3A5.31,5.31,0,0,0,4.9,8.1,5.31,5.31,0,0,0,1,6.5,5.31,5.31,0,0,0,4.9,4.9,5.31,5.31,0,0,0,6.5,1,5.31,5.31,0,0,0,8.1,4.9,5.31,5.31,0,0,0,12,6.5,5.46,5.46,0,0,0,6.5,12Z\"/>\n",
              "  </svg>\n",
              "    </button>\n",
              "    <script>\n",
              "      (() => {\n",
              "      const buttonEl =\n",
              "        document.querySelector('#id_5fa0544e-6e0f-47c2-8b76-0a732b7afe78 button.colab-df-generate');\n",
              "      buttonEl.style.display =\n",
              "        google.colab.kernel.accessAllowed ? 'block' : 'none';\n",
              "\n",
              "      buttonEl.onclick = () => {\n",
              "        google.colab.notebook.generateWithVariable('data');\n",
              "      }\n",
              "      })();\n",
              "    </script>\n",
              "  </div>\n",
              "\n",
              "    </div>\n",
              "  </div>\n"
            ],
            "application/vnd.google.colaboratory.intrinsic+json": {
              "type": "dataframe",
              "variable_name": "data",
              "summary": "{\n  \"name\": \"data\",\n  \"rows\": 6745,\n  \"fields\": [\n    {\n      \"column\": \"Request id\",\n      \"properties\": {\n        \"dtype\": \"number\",\n        \"std\": 1955,\n        \"min\": 1,\n        \"max\": 6766,\n        \"num_unique_values\": 6745,\n        \"samples\": [\n          2761,\n          1342,\n          44\n        ],\n        \"semantic_type\": \"\",\n        \"description\": \"\"\n      }\n    },\n    {\n      \"column\": \"Pickup point\",\n      \"properties\": {\n        \"dtype\": \"category\",\n        \"num_unique_values\": 2,\n        \"samples\": [\n          \"City\",\n          \"Airport\"\n        ],\n        \"semantic_type\": \"\",\n        \"description\": \"\"\n      }\n    },\n    {\n      \"column\": \"Driver id\",\n      \"properties\": {\n        \"dtype\": \"category\",\n        \"num_unique_values\": 301,\n        \"samples\": [\n          \"178\",\n          \"290\"\n        ],\n        \"semantic_type\": \"\",\n        \"description\": \"\"\n      }\n    },\n    {\n      \"column\": \"Status\",\n      \"properties\": {\n        \"dtype\": \"category\",\n        \"num_unique_values\": 3,\n        \"samples\": [\n          \"Trip Completed\",\n          \"Cancelled\"\n        ],\n        \"semantic_type\": \"\",\n        \"description\": \"\"\n      }\n    },\n    {\n      \"column\": \"Request timestamp\",\n      \"properties\": {\n        \"dtype\": \"string\",\n        \"num_unique_values\": 4016,\n        \"samples\": [\n          \"14-07-2016 18:36\",\n          \"13-07-2016 12:02\"\n        ],\n        \"semantic_type\": \"\",\n        \"description\": \"\"\n      }\n    },\n    {\n      \"column\": \"Drop timestamp\",\n      \"properties\": {\n        \"dtype\": \"category\",\n        \"num_unique_values\": 2283,\n        \"samples\": [\n          \"13-07-2016 23:52\",\n          \"13-07-2016 14:04\"\n        ],\n        \"semantic_type\": \"\",\n        \"description\": \"\"\n      }\n    },\n    {\n      \"column\": \"Request Date\",\n      \"properties\": {\n        \"dtype\": \"category\",\n        \"num_unique_values\": 5,\n        \"samples\": [\n          \"07-12-2016\",\n          \"15-07-2016\"\n        ],\n        \"semantic_type\": \"\",\n        \"description\": \"\"\n      }\n    },\n    {\n      \"column\": \"Request Day\",\n      \"properties\": {\n        \"dtype\": \"category\",\n        \"num_unique_values\": 4,\n        \"samples\": [\n          \"Wednesday\",\n          \"Friday\"\n        ],\n        \"semantic_type\": \"\",\n        \"description\": \"\"\n      }\n    },\n    {\n      \"column\": \"Trip Duration (mins)\",\n      \"properties\": {\n        \"dtype\": \"category\",\n        \"num_unique_values\": 1349,\n        \"samples\": [\n          \"54.21666667\",\n          \"68.61666667\"\n        ],\n        \"semantic_type\": \"\",\n        \"description\": \"\"\n      }\n    },\n    {\n      \"column\": \"Is Driver Assigned\",\n      \"properties\": {\n        \"dtype\": \"category\",\n        \"num_unique_values\": 2,\n        \"samples\": [\n          \"No\",\n          \"Yes\"\n        ],\n        \"semantic_type\": \"\",\n        \"description\": \"\"\n      }\n    },\n    {\n      \"column\": \"Was Completed\",\n      \"properties\": {\n        \"dtype\": \"category\",\n        \"num_unique_values\": 2,\n        \"samples\": [\n          \"No\",\n          \"Yes\"\n        ],\n        \"semantic_type\": \"\",\n        \"description\": \"\"\n      }\n    },\n    {\n      \"column\": \"Pickup_Airport\",\n      \"properties\": {\n        \"dtype\": \"number\",\n        \"std\": 0,\n        \"min\": 0,\n        \"max\": 1,\n        \"num_unique_values\": 2,\n        \"samples\": [\n          0,\n          1\n        ],\n        \"semantic_type\": \"\",\n        \"description\": \"\"\n      }\n    },\n    {\n      \"column\": \"Request Period\",\n      \"properties\": {\n        \"dtype\": \"category\",\n        \"num_unique_values\": 4,\n        \"samples\": [\n          \"Evening\",\n          \"Afternoon\"\n        ],\n        \"semantic_type\": \"\",\n        \"description\": \"\"\n      }\n    }\n  ]\n}"
            }
          },
          "metadata": {},
          "execution_count": 66
        }
      ]
    },
    {
      "cell_type": "markdown",
      "source": [
        "##HISTOGRAM"
      ],
      "metadata": {
        "id": "5c1YgnxUOae2"
      }
    },
    {
      "cell_type": "markdown",
      "source": [
        "Histogram represesnts the distribution of numerical value.They provide a visual way to see the shape of data's distribution"
      ],
      "metadata": {
        "id": "AhtxnfGVPNrc"
      }
    },
    {
      "cell_type": "markdown",
      "source": [
        "###Histogtram of Was Completed"
      ],
      "metadata": {
        "id": "AOxlEImqQhva"
      }
    },
    {
      "cell_type": "code",
      "source": [
        "plt.figure(figsize=(8,6))\n",
        "sns.histplot(data=data, x='Was Completed', color='blue', bins=20)\n",
        "plt.title('Histogram of Was Completed\\n', color='red')\n",
        "plt.show()"
      ],
      "metadata": {
        "colab": {
          "base_uri": "https://localhost:8080/",
          "height": 585
        },
        "id": "G1TcO2E2OU6x",
        "outputId": "17f67ad8-e5ff-40cb-a021-436b1aa9067c"
      },
      "execution_count": null,
      "outputs": [
        {
          "output_type": "display_data",
          "data": {
            "text/plain": [
              "<Figure size 800x600 with 1 Axes>"
            ],
            "image/png": "[encoded data removed]"
          },
          "metadata": {}
        }
      ]
    },
    {
      "cell_type": "markdown",
      "source": [
        "###Insights"
      ],
      "metadata": {
        "id": "VwjF57ClP_LW"
      }
    },
    {
      "cell_type": "markdown",
      "source": [
        "More rides were not completed than completed, indicating a significant supply-demand mismatch.\n",
        "\n",
        "High uncompleted ride count suggests issues like driver unavailability or frequent cancellations.\n",
        "\n",
        "This gap highlights a need for better driver allocation and incentive strategies to improve ride fulfillment."
      ],
      "metadata": {
        "id": "foAcpAScQAYE"
      }
    },
    {
      "cell_type": "markdown",
      "source": [
        "###Histogram of Is Driver Assigned"
      ],
      "metadata": {
        "id": "8jdkKc3KQdfS"
      }
    },
    {
      "cell_type": "code",
      "source": [
        "plt.figure(figsize=(8,6))\n",
        "sns.histplot(data=data, x='Is Driver Assigned', color='green', bins=25)\n",
        "plt.title('Histogram of Is Driver Assigned\\n',color='red')\n",
        "plt.show()"
      ],
      "metadata": {
        "colab": {
          "base_uri": "https://localhost:8080/",
          "height": 585
        },
        "id": "V_9ELiSKP_uZ",
        "outputId": "a85f7b96-2831-4ae8-f277-16ed7d9546bf"
      },
      "execution_count": null,
      "outputs": [
        {
          "output_type": "display_data",
          "data": {
            "text/plain": [
              "<Figure size 800x600 with 1 Axes>"
            ],
            "image/png": "[encoded data removed]"
          },
          "metadata": {}
        }
      ]
    },
    {
      "cell_type": "markdown",
      "source": [
        "###Insights"
      ],
      "metadata": {
        "id": "ZLAHnWuhRUFy"
      }
    },
    {
      "cell_type": "markdown",
      "source": [
        "Majority of ride requests had a driver assigned, indicating that the system is generally able to allocate drivers.\n",
        "\n",
        "However, a significant portion (~40%) of requests had no driver assigned, revealing a notable supply shortfall.\n",
        "\n",
        "This highlights a critical opportunity to improve driver availability during peak times or high-demand zones to reduce unassigned rides."
      ],
      "metadata": {
        "id": "d-sfop6dRf15"
      }
    },
    {
      "cell_type": "markdown",
      "source": [
        "###Histogram of Request Period"
      ],
      "metadata": {
        "id": "CtnsQxfyRqXy"
      }
    },
    {
      "cell_type": "code",
      "source": [
        "plt.figure(figsize=(8,6))\n",
        "sns.histplot(data=data, x='Request Period', color='purple', bins=25, kde=True)\n",
        "plt.title('Histogram of Request Period\\n',color='blue')\n",
        "plt.show()"
      ],
      "metadata": {
        "colab": {
          "base_uri": "https://localhost:8080/",
          "height": 585
        },
        "id": "QoJJDyfnRXdO",
        "outputId": "27a4254f-d57f-441f-c291-eebc792eaace"
      },
      "execution_count": null,
      "outputs": [
        {
          "output_type": "display_data",
          "data": {
            "text/plain": [
              "<Figure size 800x600 with 1 Axes>"
            ],
            "image/png": "[encoded data removed]"
          },
          "metadata": {}
        }
      ]
    },
    {
      "cell_type": "markdown",
      "source": [
        "###Insights"
      ],
      "metadata": {
        "id": "ejUFroZVSVlH"
      }
    },
    {
      "cell_type": "markdown",
      "source": [
        "Morning has the highest number of ride requests, indicating a peak in user demand during commute hours.\n",
        "\n",
        "Evening and Night also show considerable request volumes, suggesting a second peak likely linked to return trips or late-night travel.\n",
        "\n",
        "Afternoon sees the lowest number of requests, making it a potential off-peak period with less rider activity."
      ],
      "metadata": {
        "id": "vZ2E60hnSY06"
      }
    },
    {
      "cell_type": "markdown",
      "source": [
        "###Histogram of Request Date"
      ],
      "metadata": {
        "id": "ry4pH52mTXTx"
      }
    },
    {
      "cell_type": "code",
      "source": [
        "plt.figure(figsize=(8,6))\n",
        "sns.histplot(data=data, x='Request Date', color='purple', bins=25)\n",
        "plt.title('Histogram of Request Date\\n',color='blue')\n",
        "plt.show()"
      ],
      "metadata": {
        "colab": {
          "base_uri": "https://localhost:8080/",
          "height": 585
        },
        "id": "QcTN7miUSYNz",
        "outputId": "2092bad2-712f-41bf-ab6b-4555e7298e5a"
      },
      "execution_count": null,
      "outputs": [
        {
          "output_type": "display_data",
          "data": {
            "text/plain": [
              "<Figure size 800x600 with 1 Axes>"
            ],
            "image/png": "[encoded data removed]"
          },
          "metadata": {}
        }
      ]
    },
    {
      "cell_type": "markdown",
      "source": [
        "###Insights"
      ],
      "metadata": {
        "id": "8bUKQctcT__n"
      }
    },
    {
      "cell_type": "markdown",
      "source": [
        "Sure! Here are three concise insights from the histogram:\n",
        "\n",
        "1. **Steady Requests:** The number of requests is consistent across all five days, with only slight variations.\n",
        "2. **Highest on 15th July:** 15th July 2016 has the highest request count among the days shown.\n",
        "3. **Low Fluctuation:** There is minimal fluctuation in request volume, indicating stable system usage.\n"
      ],
      "metadata": {
        "id": "8KAe1To1UEKo"
      }
    },
    {
      "cell_type": "markdown",
      "source": [
        "###BAR PLOT / COUNT PLOT"
      ],
      "metadata": {
        "id": "-b_gq0_qUpRd"
      }
    },
    {
      "cell_type": "markdown",
      "source": [
        "A bar plot is a type of chart that presents categorical data with rectangular bars with heights or lengths proportional to the values that they represent."
      ],
      "metadata": {
        "id": "dhsGMDaTUqeA"
      }
    },
    {
      "cell_type": "markdown",
      "source": [
        "###Bar plot of Status"
      ],
      "metadata": {
        "id": "rHaet_tkUuOz"
      }
    },
    {
      "cell_type": "code",
      "source": [
        "a=data.Status.value_counts()\n",
        "a"
      ],
      "metadata": {
        "colab": {
          "base_uri": "https://localhost:8080/",
          "height": 209
        },
        "id": "J3loiSUOUC0o",
        "outputId": "e4c6f8c9-d9b7-4a6e-d14c-cba5250d9a10"
      },
      "execution_count": null,
      "outputs": [
        {
          "output_type": "execute_result",
          "data": {
            "text/plain": [
              "Status\n",
              "Trip Completed       2831\n",
              "No Cars Available    2650\n",
              "Cancelled            1264\n",
              "Name: count, dtype: int64"
            ],
            "text/html": [
              "<div>\n",
              "<style scoped>\n",
              "    .dataframe tbody tr th:only-of-type {\n",
              "        vertical-align: middle;\n",
              "    }\n",
              "\n",
              "    .dataframe tbody tr th {\n",
              "        vertical-align: top;\n",
              "    }\n",
              "\n",
              "    .dataframe thead th {\n",
              "        text-align: right;\n",
              "    }\n",
              "</style>\n",
              "<table border=\"1\" class=\"dataframe\">\n",
              "  <thead>\n",
              "    <tr style=\"text-align: right;\">\n",
              "      <th></th>\n",
              "      <th>count</th>\n",
              "    </tr>\n",
              "    <tr>\n",
              "      <th>Status</th>\n",
              "      <th></th>\n",
              "    </tr>\n",
              "  </thead>\n",
              "  <tbody>\n",
              "    <tr>\n",
              "      <th>Trip Completed</th>\n",
              "      <td>2831</td>\n",
              "    </tr>\n",
              "    <tr>\n",
              "      <th>No Cars Available</th>\n",
              "      <td>2650</td>\n",
              "    </tr>\n",
              "    <tr>\n",
              "      <th>Cancelled</th>\n",
              "      <td>1264</td>\n",
              "    </tr>\n",
              "  </tbody>\n",
              "</table>\n",
              "</div><br><label><b>dtype:</b> int64</label>"
            ]
          },
          "metadata": {},
          "execution_count": 78
        }
      ]
    },
    {
      "cell_type": "code",
      "source": [
        "plt.figure(figsize=(8,6))\n",
        "sns.barplot(x = a.index, y = a.values, color='skyblue', width=0.5, edgecolor='black')\n",
        "plt.title('Bar plot of Status\\n',color='red')\n",
        "plt.ylabel('count')\n",
        "plt.show()"
      ],
      "metadata": {
        "colab": {
          "base_uri": "https://localhost:8080/",
          "height": 585
        },
        "id": "CGuU7v-aVb1v",
        "outputId": "010638ae-2983-4c93-ede0-7015e1597dd9"
      },
      "execution_count": null,
      "outputs": [
        {
          "output_type": "display_data",
          "data": {
            "text/plain": [
              "<Figure size 800x600 with 1 Axes>"
            ],
            "image/png": "[encoded data removed]"
          },
          "metadata": {}
        }
      ]
    },
    {
      "cell_type": "markdown",
      "source": [
        "###Insights"
      ],
      "metadata": {
        "id": "cjBADbm3VziO"
      }
    },
    {
      "cell_type": "markdown",
      "source": [
        "\n",
        "\n",
        "1. Most trips were completed, showing efficient service delivery.\n",
        "2. \"No Cars Available\" is a major issue, almost as frequent as completed trips.\n",
        "3. Cancellations are significantly lower, indicating fewer user-initiated disruptions."
      ],
      "metadata": {
        "id": "CjEKEKPhV0lC"
      }
    },
    {
      "cell_type": "markdown",
      "source": [
        "Bar plot of Pickup point"
      ],
      "metadata": {
        "id": "mCld5L2jWPWD"
      }
    },
    {
      "cell_type": "code",
      "source": [
        "b = data['Pickup point'].value_counts()\n",
        "b"
      ],
      "metadata": {
        "colab": {
          "base_uri": "https://localhost:8080/",
          "height": 178
        },
        "id": "qgWaFKNIXJCC",
        "outputId": "f8fa8d8e-ce23-4061-ae5f-dd4e5f015010"
      },
      "execution_count": null,
      "outputs": [
        {
          "output_type": "execute_result",
          "data": {
            "text/plain": [
              "Pickup point\n",
              "City       3507\n",
              "Airport    3238\n",
              "Name: count, dtype: int64"
            ],
            "text/html": [
              "<div>\n",
              "<style scoped>\n",
              "    .dataframe tbody tr th:only-of-type {\n",
              "        vertical-align: middle;\n",
              "    }\n",
              "\n",
              "    .dataframe tbody tr th {\n",
              "        vertical-align: top;\n",
              "    }\n",
              "\n",
              "    .dataframe thead th {\n",
              "        text-align: right;\n",
              "    }\n",
              "</style>\n",
              "<table border=\"1\" class=\"dataframe\">\n",
              "  <thead>\n",
              "    <tr style=\"text-align: right;\">\n",
              "      <th></th>\n",
              "      <th>count</th>\n",
              "    </tr>\n",
              "    <tr>\n",
              "      <th>Pickup point</th>\n",
              "      <th></th>\n",
              "    </tr>\n",
              "  </thead>\n",
              "  <tbody>\n",
              "    <tr>\n",
              "      <th>City</th>\n",
              "      <td>3507</td>\n",
              "    </tr>\n",
              "    <tr>\n",
              "      <th>Airport</th>\n",
              "      <td>3238</td>\n",
              "    </tr>\n",
              "  </tbody>\n",
              "</table>\n",
              "</div><br><label><b>dtype:</b> int64</label>"
            ]
          },
          "metadata": {},
          "execution_count": 91
        }
      ]
    },
    {
      "cell_type": "code",
      "source": [
        "plt.figure(figsize=(8,6))\n",
        "sns.barplot(x = b.index, y = b.values, color='royalblue', width=0.5, edgecolor='black')\n",
        "plt.title('Bar plot of Pickup point\\n',color='red')\n",
        "plt.ylabel('count')\n",
        "plt.show()"
      ],
      "metadata": {
        "colab": {
          "base_uri": "https://localhost:8080/",
          "height": 585
        },
        "id": "W0UXyN7RV0Gs",
        "outputId": "53fbeab8-84a1-4881-be10-b487f8346e8e"
      },
      "execution_count": null,
      "outputs": [
        {
          "output_type": "display_data",
          "data": {
            "text/plain": [
              "<Figure size 800x600 with 1 Axes>"
            ],
            "image/png": "[encoded data removed]"
          },
          "metadata": {}
        }
      ]
    },
    {
      "cell_type": "markdown",
      "source": [
        "###Insights"
      ],
      "metadata": {
        "id": "X_ThwuSsYPeb"
      }
    },
    {
      "cell_type": "markdown",
      "source": [
        "\n",
        "1. City pickups are slightly higher than airport pickups.\n",
        "2. Both locations show high demand, indicating well-distributed service needs.\n",
        "3. More resources may be required in the city to meet the slightly greater demand."
      ],
      "metadata": {
        "id": "lW4nn8unYQvm"
      }
    },
    {
      "cell_type": "markdown",
      "source": [
        "###Bar Request Day"
      ],
      "metadata": {
        "id": "JIXslC0xYf-f"
      }
    },
    {
      "cell_type": "code",
      "source": [
        "c = data['Request Day'].value_counts()\n",
        "c"
      ],
      "metadata": {
        "colab": {
          "base_uri": "https://localhost:8080/",
          "height": 241
        },
        "id": "8W1Nqq3OYQB1",
        "outputId": "3db4af67-301c-4ce4-ec77-917b3f2aca39"
      },
      "execution_count": null,
      "outputs": [
        {
          "output_type": "execute_result",
          "data": {
            "text/plain": [
              "Request Day\n",
              "Wednesday    2644\n",
              "Friday       1381\n",
              "Monday       1367\n",
              "Thursday     1353\n",
              "Name: count, dtype: int64"
            ],
            "text/html": [
              "<div>\n",
              "<style scoped>\n",
              "    .dataframe tbody tr th:only-of-type {\n",
              "        vertical-align: middle;\n",
              "    }\n",
              "\n",
              "    .dataframe tbody tr th {\n",
              "        vertical-align: top;\n",
              "    }\n",
              "\n",
              "    .dataframe thead th {\n",
              "        text-align: right;\n",
              "    }\n",
              "</style>\n",
              "<table border=\"1\" class=\"dataframe\">\n",
              "  <thead>\n",
              "    <tr style=\"text-align: right;\">\n",
              "      <th></th>\n",
              "      <th>count</th>\n",
              "    </tr>\n",
              "    <tr>\n",
              "      <th>Request Day</th>\n",
              "      <th></th>\n",
              "    </tr>\n",
              "  </thead>\n",
              "  <tbody>\n",
              "    <tr>\n",
              "      <th>Wednesday</th>\n",
              "      <td>2644</td>\n",
              "    </tr>\n",
              "    <tr>\n",
              "      <th>Friday</th>\n",
              "      <td>1381</td>\n",
              "    </tr>\n",
              "    <tr>\n",
              "      <th>Monday</th>\n",
              "      <td>1367</td>\n",
              "    </tr>\n",
              "    <tr>\n",
              "      <th>Thursday</th>\n",
              "      <td>1353</td>\n",
              "    </tr>\n",
              "  </tbody>\n",
              "</table>\n",
              "</div><br><label><b>dtype:</b> int64</label>"
            ]
          },
          "metadata": {},
          "execution_count": 95
        }
      ]
    },
    {
      "cell_type": "code",
      "source": [
        "plt.figure(figsize=(8,6))\n",
        "sns.barplot(y = c.index, x = c.values, color='orange', orient='h', edgecolor='black')\n",
        "plt.title('Bar plot of  Request Day\\n',color='blue')\n",
        "plt.xlabel('count')\n",
        "plt.show()"
      ],
      "metadata": {
        "colab": {
          "base_uri": "https://localhost:8080/",
          "height": 585
        },
        "id": "wqySo3_iZAnp",
        "outputId": "9a4b5df3-2b05-4234-b4dd-2415824f7851"
      },
      "execution_count": null,
      "outputs": [
        {
          "output_type": "display_data",
          "data": {
            "text/plain": [
              "<Figure size 800x600 with 1 Axes>"
            ],
            "image/png": "[encoded data removed]"
          },
          "metadata": {}
        }
      ]
    },
    {
      "cell_type": "markdown",
      "source": [
        "###Insights"
      ],
      "metadata": {
        "id": "x4azAKuxZR9t"
      }
    },
    {
      "cell_type": "markdown",
      "source": [
        "1.Wednesday has the highest number of requests, showing a mid-week peak in demand.\n",
        "\n",
        "2.Monday, Thursday, and Friday have similar, lower request counts compared to Wednesday.\n",
        "\n",
        "3.Services may need to be scaled up on Wednesdays to handle the higher load."
      ],
      "metadata": {
        "id": "Pc-isXcNZnER"
      }
    },
    {
      "cell_type": "markdown",
      "source": [
        "##Bivariate Analysis"
      ],
      "metadata": {
        "id": "BNbet0DYZxyr"
      }
    },
    {
      "cell_type": "code",
      "source": [
        "data"
      ],
      "metadata": {
        "colab": {
          "base_uri": "https://localhost:8080/",
          "height": 825
        },
        "id": "f7TG__vlZSpg",
        "outputId": "53a5bc4f-99ed-4f49-b697-ed0fcfd19a08"
      },
      "execution_count": null,
      "outputs": [
        {
          "output_type": "execute_result",
          "data": {
            "text/plain": [
              "      Request id Pickup point Driver id             Status Request timestamp  \\\n",
              "0            619      Airport         1     Trip Completed  07-11-2016 11:51   \n",
              "1            867      Airport         1     Trip Completed  07-11-2016 17:57   \n",
              "2           1807         City         1     Trip Completed  07-12-2016 09:17   \n",
              "3           2532      Airport         1     Trip Completed  07-12-2016 21:08   \n",
              "4           3112         City         1     Trip Completed  13-07-2016 08:33   \n",
              "...          ...          ...       ...                ...               ...   \n",
              "6740        6745         City       NA   No Cars Available  15-07-2016 23:49   \n",
              "6741        6752      Airport       NA   No Cars Available  15-07-2016 23:50   \n",
              "6742        6751         City       NA   No Cars Available  15-07-2016 23:52   \n",
              "6743        6754         City       NA   No Cars Available  15-07-2016 23:54   \n",
              "6744        6753      Airport       NA   No Cars Available  15-07-2016 23:55   \n",
              "\n",
              "        Drop timestamp Request Date Request Day Trip Duration (mins)  \\\n",
              "0     07-11-2016 13:00   07-11-2016      Monday                   69   \n",
              "1     07-11-2016 18:47   07-11-2016      Monday                   50   \n",
              "2     07-12-2016 09:58   07-12-2016   Wednesday                   41   \n",
              "3     07-12-2016 22:03   07-12-2016   Wednesday                   55   \n",
              "4     13-07-2016 09:25   13-07-2016   Wednesday          52.51666667   \n",
              "...                ...          ...         ...                  ...   \n",
              "6740               NA    15-07-2016      Friday                  NA    \n",
              "6741               NA    15-07-2016      Friday                  NA    \n",
              "6742               NA    15-07-2016      Friday                  NA    \n",
              "6743               NA    15-07-2016      Friday                  NA    \n",
              "6744               NA    15-07-2016      Friday                  NA    \n",
              "\n",
              "     Is Driver Assigned Was Completed  Pickup_Airport Request Period  \n",
              "0                   Yes           Yes               1        Morning  \n",
              "1                   Yes           Yes               1        Evening  \n",
              "2                   Yes           Yes               0        Morning  \n",
              "3                   Yes           Yes               1          Night  \n",
              "4                   Yes           Yes               0        Morning  \n",
              "...                 ...           ...             ...            ...  \n",
              "6740                 No            No               0          Night  \n",
              "6741                 No            No               1          Night  \n",
              "6742                 No            No               0          Night  \n",
              "6743                 No            No               0          Night  \n",
              "6744                 No            No               1          Night  \n",
              "\n",
              "[6745 rows x 13 columns]"
            ],
            "text/html": [
              "\n",
              "  <div id=\"df-a51ec156-4f53-48fe-9485-d9f9cec552d8\" class=\"colab-df-container\">\n",
              "    <div>\n",
              "<style scoped>\n",
              "    .dataframe tbody tr th:only-of-type {\n",
              "        vertical-align: middle;\n",
              "    }\n",
              "\n",
              "    .dataframe tbody tr th {\n",
              "        vertical-align: top;\n",
              "    }\n",
              "\n",
              "    .dataframe thead th {\n",
              "        text-align: right;\n",
              "    }\n",
              "</style>\n",
              "<table border=\"1\" class=\"dataframe\">\n",
              "  <thead>\n",
              "    <tr style=\"text-align: right;\">\n",
              "      <th></th>\n",
              "      <th>Request id</th>\n",
              "      <th>Pickup point</th>\n",
              "      <th>Driver id</th>\n",
              "      <th>Status</th>\n",
              "      <th>Request timestamp</th>\n",
              "      <th>Drop timestamp</th>\n",
              "      <th>Request Date</th>\n",
              "      <th>Request Day</th>\n",
              "      <th>Trip Duration (mins)</th>\n",
              "      <th>Is Driver Assigned</th>\n",
              "      <th>Was Completed</th>\n",
              "      <th>Pickup_Airport</th>\n",
              "      <th>Request Period</th>\n",
              "    </tr>\n",
              "  </thead>\n",
              "  <tbody>\n",
              "    <tr>\n",
              "      <th>0</th>\n",
              "      <td>619</td>\n",
              "      <td>Airport</td>\n",
              "      <td>1</td>\n",
              "      <td>Trip Completed</td>\n",
              "      <td>07-11-2016 11:51</td>\n",
              "      <td>07-11-2016 13:00</td>\n",
              "      <td>07-11-2016</td>\n",
              "      <td>Monday</td>\n",
              "      <td>69</td>\n",
              "      <td>Yes</td>\n",
              "      <td>Yes</td>\n",
              "      <td>1</td>\n",
              "      <td>Morning</td>\n",
              "    </tr>\n",
              "    <tr>\n",
              "      <th>1</th>\n",
              "      <td>867</td>\n",
              "      <td>Airport</td>\n",
              "      <td>1</td>\n",
              "      <td>Trip Completed</td>\n",
              "      <td>07-11-2016 17:57</td>\n",
              "      <td>07-11-2016 18:47</td>\n",
              "      <td>07-11-2016</td>\n",
              "      <td>Monday</td>\n",
              "      <td>50</td>\n",
              "      <td>Yes</td>\n",
              "      <td>Yes</td>\n",
              "      <td>1</td>\n",
              "      <td>Evening</td>\n",
              "    </tr>\n",
              "    <tr>\n",
              "      <th>2</th>\n",
              "      <td>1807</td>\n",
              "      <td>City</td>\n",
              "      <td>1</td>\n",
              "      <td>Trip Completed</td>\n",
              "      <td>07-12-2016 09:17</td>\n",
              "      <td>07-12-2016 09:58</td>\n",
              "      <td>07-12-2016</td>\n",
              "      <td>Wednesday</td>\n",
              "      <td>41</td>\n",
              "      <td>Yes</td>\n",
              "      <td>Yes</td>\n",
              "      <td>0</td>\n",
              "      <td>Morning</td>\n",
              "    </tr>\n",
              "    <tr>\n",
              "      <th>3</th>\n",
              "      <td>2532</td>\n",
              "      <td>Airport</td>\n",
              "      <td>1</td>\n",
              "      <td>Trip Completed</td>\n",
              "      <td>07-12-2016 21:08</td>\n",
              "      <td>07-12-2016 22:03</td>\n",
              "      <td>07-12-2016</td>\n",
              "      <td>Wednesday</td>\n",
              "      <td>55</td>\n",
              "      <td>Yes</td>\n",
              "      <td>Yes</td>\n",
              "      <td>1</td>\n",
              "      <td>Night</td>\n",
              "    </tr>\n",
              "    <tr>\n",
              "      <th>4</th>\n",
              "      <td>3112</td>\n",
              "      <td>City</td>\n",
              "      <td>1</td>\n",
              "      <td>Trip Completed</td>\n",
              "      <td>13-07-2016 08:33</td>\n",
              "      <td>13-07-2016 09:25</td>\n",
              "      <td>13-07-2016</td>\n",
              "      <td>Wednesday</td>\n",
              "      <td>52.51666667</td>\n",
              "      <td>Yes</td>\n",
              "      <td>Yes</td>\n",
              "      <td>0</td>\n",
              "      <td>Morning</td>\n",
              "    </tr>\n",
              "    <tr>\n",
              "      <th>...</th>\n",
              "      <td>...</td>\n",
              "      <td>...</td>\n",
              "      <td>...</td>\n",
              "      <td>...</td>\n",
              "      <td>...</td>\n",
              "      <td>...</td>\n",
              "      <td>...</td>\n",
              "      <td>...</td>\n",
              "      <td>...</td>\n",
              "      <td>...</td>\n",
              "      <td>...</td>\n",
              "      <td>...</td>\n",
              "      <td>...</td>\n",
              "    </tr>\n",
              "    <tr>\n",
              "      <th>6740</th>\n",
              "      <td>6745</td>\n",
              "      <td>City</td>\n",
              "      <td>NA</td>\n",
              "      <td>No Cars Available</td>\n",
              "      <td>15-07-2016 23:49</td>\n",
              "      <td>NA</td>\n",
              "      <td>15-07-2016</td>\n",
              "      <td>Friday</td>\n",
              "      <td>NA</td>\n",
              "      <td>No</td>\n",
              "      <td>No</td>\n",
              "      <td>0</td>\n",
              "      <td>Night</td>\n",
              "    </tr>\n",
              "    <tr>\n",
              "      <th>6741</th>\n",
              "      <td>6752</td>\n",
              "      <td>Airport</td>\n",
              "      <td>NA</td>\n",
              "      <td>No Cars Available</td>\n",
              "      <td>15-07-2016 23:50</td>\n",
              "      <td>NA</td>\n",
              "      <td>15-07-2016</td>\n",
              "      <td>Friday</td>\n",
              "      <td>NA</td>\n",
              "      <td>No</td>\n",
              "      <td>No</td>\n",
              "      <td>1</td>\n",
              "      <td>Night</td>\n",
              "    </tr>\n",
              "    <tr>\n",
              "      <th>6742</th>\n",
              "      <td>6751</td>\n",
              "      <td>City</td>\n",
              "      <td>NA</td>\n",
              "      <td>No Cars Available</td>\n",
              "      <td>15-07-2016 23:52</td>\n",
              "      <td>NA</td>\n",
              "      <td>15-07-2016</td>\n",
              "      <td>Friday</td>\n",
              "      <td>NA</td>\n",
              "      <td>No</td>\n",
              "      <td>No</td>\n",
              "      <td>0</td>\n",
              "      <td>Night</td>\n",
              "    </tr>\n",
              "    <tr>\n",
              "      <th>6743</th>\n",
              "      <td>6754</td>\n",
              "      <td>City</td>\n",
              "      <td>NA</td>\n",
              "      <td>No Cars Available</td>\n",
              "      <td>15-07-2016 23:54</td>\n",
              "      <td>NA</td>\n",
              "      <td>15-07-2016</td>\n",
              "      <td>Friday</td>\n",
              "      <td>NA</td>\n",
              "      <td>No</td>\n",
              "      <td>No</td>\n",
              "      <td>0</td>\n",
              "      <td>Night</td>\n",
              "    </tr>\n",
              "    <tr>\n",
              "      <th>6744</th>\n",
              "      <td>6753</td>\n",
              "      <td>Airport</td>\n",
              "      <td>NA</td>\n",
              "      <td>No Cars Available</td>\n",
              "      <td>15-07-2016 23:55</td>\n",
              "      <td>NA</td>\n",
              "      <td>15-07-2016</td>\n",
              "      <td>Friday</td>\n",
              "      <td>NA</td>\n",
              "      <td>No</td>\n",
              "      <td>No</td>\n",
              "      <td>1</td>\n",
              "      <td>Night</td>\n",
              "    </tr>\n",
              "  </tbody>\n",
              "</table>\n",
              "<p>6745 rows × 13 columns</p>\n",
              "</div>\n",
              "    <div class=\"colab-df-buttons\">\n",
              "\n",
              "  <div class=\"colab-df-container\">\n",
              "    <button class=\"colab-df-convert\" onclick=\"convertToInteractive('df-a51ec156-4f53-48fe-9485-d9f9cec552d8')\"\n",
              "            title=\"Convert this dataframe to an interactive table.\"\n",
              "            style=\"display:none;\">\n",
              "\n",
              "  <svg xmlns=\"http://www.w3.org/2000/svg\" height=\"24px\" viewBox=\"0 -960 960 960\">\n",
              "    <path d=\"M120-120v-720h720v720H120Zm60-500h600v-160H180v160Zm220 220h160v-160H400v160Zm0 220h160v-160H400v160ZM180-400h160v-160H180v160Zm440 0h160v-160H620v160ZM180-180h160v-160H180v160Zm440 0h160v-160H620v160Z\"/>\n",
              "  </svg>\n",
              "    </button>\n",
              "\n",
              "  <style>\n",
              "    .colab-df-container {\n",
              "      display:flex;\n",
              "      gap: 12px;\n",
              "    }\n",
              "\n",
              "    .colab-df-convert {\n",
              "      background-color: #E8F0FE;\n",
              "      border: none;\n",
              "      border-radius: 50%;\n",
              "      cursor: pointer;\n",
              "      display: none;\n",
              "      fill: #1967D2;\n",
              "      height: 32px;\n",
              "      padding: 0 0 0 0;\n",
              "      width: 32px;\n",
              "    }\n",
              "\n",
              "    .colab-df-convert:hover {\n",
              "      background-color: #E2EBFA;\n",
              "      box-shadow: 0px 1px 2px rgba(60, 64, 67, 0.3), 0px 1px 3px 1px rgba(60, 64, 67, 0.15);\n",
              "      fill: #174EA6;\n",
              "    }\n",
              "\n",
              "    .colab-df-buttons div {\n",
              "      margin-bottom: 4px;\n",
              "    }\n",
              "\n",
              "    [theme=dark] .colab-df-convert {\n",
              "      background-color: #3B4455;\n",
              "      fill: #D2E3FC;\n",
              "    }\n",
              "\n",
              "    [theme=dark] .colab-df-convert:hover {\n",
              "      background-color: #434B5C;\n",
              "      box-shadow: 0px 1px 3px 1px rgba(0, 0, 0, 0.15);\n",
              "      filter: drop-shadow(0px 1px 2px rgba(0, 0, 0, 0.3));\n",
              "      fill: #FFFFFF;\n",
              "    }\n",
              "  </style>\n",
              "\n",
              "    <script>\n",
              "      const buttonEl =\n",
              "        document.querySelector('#df-a51ec156-4f53-48fe-9485-d9f9cec552d8 button.colab-df-convert');\n",
              "      buttonEl.style.display =\n",
              "        google.colab.kernel.accessAllowed ? 'block' : 'none';\n",
              "\n",
              "      async function convertToInteractive(key) {\n",
              "        const element = document.querySelector('#df-a51ec156-4f53-48fe-9485-d9f9cec552d8');\n",
              "        const dataTable =\n",
              "          await google.colab.kernel.invokeFunction('convertToInteractive',\n",
              "                                                    [key], {});\n",
              "        if (!dataTable) return;\n",
              "\n",
              "        const docLinkHtml = 'Like what you see? Visit the ' +\n",
              "          '<a target=\"_blank\" href=https://colab.research.google.com/notebooks/data_table.ipynb>data table notebook</a>'\n",
              "          + ' to learn more about interactive tables.';\n",
              "        element.innerHTML = '';\n",
              "        dataTable['output_type'] = 'display_data';\n",
              "        await google.colab.output.renderOutput(dataTable, element);\n",
              "        const docLink = document.createElement('div');\n",
              "        docLink.innerHTML = docLinkHtml;\n",
              "        element.appendChild(docLink);\n",
              "      }\n",
              "    </script>\n",
              "  </div>\n",
              "\n",
              "\n",
              "    <div id=\"df-74fc7d04-8dad-47dc-b1aa-fbc8eea726b1\">\n",
              "      <button class=\"colab-df-quickchart\" onclick=\"quickchart('df-74fc7d04-8dad-47dc-b1aa-fbc8eea726b1')\"\n",
              "                title=\"Suggest charts\"\n",
              "                style=\"display:none;\">\n",
              "\n",
              "<svg xmlns=\"http://www.w3.org/2000/svg\" height=\"24px\"viewBox=\"0 0 24 24\"\n",
              "     width=\"24px\">\n",
              "    <g>\n",
              "        <path d=\"M19 3H5c-1.1 0-2 .9-2 2v14c0 1.1.9 2 2 2h14c1.1 0 2-.9 2-2V5c0-1.1-.9-2-2-2zM9 17H7v-7h2v7zm4 0h-2V7h2v10zm4 0h-2v-4h2v4z\"/>\n",
              "    </g>\n",
              "</svg>\n",
              "      </button>\n",
              "\n",
              "<style>\n",
              "  .colab-df-quickchart {\n",
              "      --bg-color: #E8F0FE;\n",
              "      --fill-color: #1967D2;\n",
              "      --hover-bg-color: #E2EBFA;\n",
              "      --hover-fill-color: #174EA6;\n",
              "      --disabled-fill-color: #AAA;\n",
              "      --disabled-bg-color: #DDD;\n",
              "  }\n",
              "\n",
              "  [theme=dark] .colab-df-quickchart {\n",
              "      --bg-color: #3B4455;\n",
              "      --fill-color: #D2E3FC;\n",
              "      --hover-bg-color: #434B5C;\n",
              "      --hover-fill-color: #FFFFFF;\n",
              "      --disabled-bg-color: #3B4455;\n",
              "      --disabled-fill-color: #666;\n",
              "  }\n",
              "\n",
              "  .colab-df-quickchart {\n",
              "    background-color: var(--bg-color);\n",
              "    border: none;\n",
              "    border-radius: 50%;\n",
              "    cursor: pointer;\n",
              "    display: none;\n",
              "    fill: var(--fill-color);\n",
              "    height: 32px;\n",
              "    padding: 0;\n",
              "    width: 32px;\n",
              "  }\n",
              "\n",
              "  .colab-df-quickchart:hover {\n",
              "    background-color: var(--hover-bg-color);\n",
              "    box-shadow: 0 1px 2px rgba(60, 64, 67, 0.3), 0 1px 3px 1px rgba(60, 64, 67, 0.15);\n",
              "    fill: var(--button-hover-fill-color);\n",
              "  }\n",
              "\n",
              "  .colab-df-quickchart-complete:disabled,\n",
              "  .colab-df-quickchart-complete:disabled:hover {\n",
              "    background-color: var(--disabled-bg-color);\n",
              "    fill: var(--disabled-fill-color);\n",
              "    box-shadow: none;\n",
              "  }\n",
              "\n",
              "  .colab-df-spinner {\n",
              "    border: 2px solid var(--fill-color);\n",
              "    border-color: transparent;\n",
              "    border-bottom-color: var(--fill-color);\n",
              "    animation:\n",
              "      spin 1s steps(1) infinite;\n",
              "  }\n",
              "\n",
              "  @keyframes spin {\n",
              "    0% {\n",
              "      border-color: transparent;\n",
              "      border-bottom-color: var(--fill-color);\n",
              "      border-left-color: var(--fill-color);\n",
              "    }\n",
              "    20% {\n",
              "      border-color: transparent;\n",
              "      border-left-color: var(--fill-color);\n",
              "      border-top-color: var(--fill-color);\n",
              "    }\n",
              "    30% {\n",
              "      border-color: transparent;\n",
              "      border-left-color: var(--fill-color);\n",
              "      border-top-color: var(--fill-color);\n",
              "      border-right-color: var(--fill-color);\n",
              "    }\n",
              "    40% {\n",
              "      border-color: transparent;\n",
              "      border-right-color: var(--fill-color);\n",
              "      border-top-color: var(--fill-color);\n",
              "    }\n",
              "    60% {\n",
              "      border-color: transparent;\n",
              "      border-right-color: var(--fill-color);\n",
              "    }\n",
              "    80% {\n",
              "      border-color: transparent;\n",
              "      border-right-color: var(--fill-color);\n",
              "      border-bottom-color: var(--fill-color);\n",
              "    }\n",
              "    90% {\n",
              "      border-color: transparent;\n",
              "      border-bottom-color: var(--fill-color);\n",
              "    }\n",
              "  }\n",
              "</style>\n",
              "\n",
              "      <script>\n",
              "        async function quickchart(key) {\n",
              "          const quickchartButtonEl =\n",
              "            document.querySelector('#' + key + ' button');\n",
              "          quickchartButtonEl.disabled = true;  // To prevent multiple clicks.\n",
              "          quickchartButtonEl.classList.add('colab-df-spinner');\n",
              "          try {\n",
              "            const charts = await google.colab.kernel.invokeFunction(\n",
              "                'suggestCharts', [key], {});\n",
              "          } catch (error) {\n",
              "            console.error('Error during call to suggestCharts:', error);\n",
              "          }\n",
              "          quickchartButtonEl.classList.remove('colab-df-spinner');\n",
              "          quickchartButtonEl.classList.add('colab-df-quickchart-complete');\n",
              "        }\n",
              "        (() => {\n",
              "          let quickchartButtonEl =\n",
              "            document.querySelector('#df-74fc7d04-8dad-47dc-b1aa-fbc8eea726b1 button');\n",
              "          quickchartButtonEl.style.display =\n",
              "            google.colab.kernel.accessAllowed ? 'block' : 'none';\n",
              "        })();\n",
              "      </script>\n",
              "    </div>\n",
              "\n",
              "  <div id=\"id_75900451-cc75-48bc-b78f-b8c7d1d6ac7d\">\n",
              "    <style>\n",
              "      .colab-df-generate {\n",
              "        background-color: #E8F0FE;\n",
              "        border: none;\n",
              "        border-radius: 50%;\n",
              "        cursor: pointer;\n",
              "        display: none;\n",
              "        fill: #1967D2;\n",
              "        height: 32px;\n",
              "        padding: 0 0 0 0;\n",
              "        width: 32px;\n",
              "      }\n",
              "\n",
              "      .colab-df-generate:hover {\n",
              "        background-color: #E2EBFA;\n",
              "        box-shadow: 0px 1px 2px rgba(60, 64, 67, 0.3), 0px 1px 3px 1px rgba(60, 64, 67, 0.15);\n",
              "        fill: #174EA6;\n",
              "      }\n",
              "\n",
              "      [theme=dark] .colab-df-generate {\n",
              "        background-color: #3B4455;\n",
              "        fill: #D2E3FC;\n",
              "      }\n",
              "\n",
              "      [theme=dark] .colab-df-generate:hover {\n",
              "        background-color: #434B5C;\n",
              "        box-shadow: 0px 1px 3px 1px rgba(0, 0, 0, 0.15);\n",
              "        filter: drop-shadow(0px 1px 2px rgba(0, 0, 0, 0.3));\n",
              "        fill: #FFFFFF;\n",
              "      }\n",
              "    </style>\n",
              "    <button class=\"colab-df-generate\" onclick=\"generateWithVariable('data')\"\n",
              "            title=\"Generate code using this dataframe.\"\n",
              "            style=\"display:none;\">\n",
              "\n",
              "  <svg xmlns=\"http://www.w3.org/2000/svg\" height=\"24px\"viewBox=\"0 0 24 24\"\n",
              "       width=\"24px\">\n",
              "    <path d=\"M7,19H8.4L18.45,9,17,7.55,7,17.6ZM5,21V16.75L18.45,3.32a2,2,0,0,1,2.83,0l1.4,1.43a1.91,1.91,0,0,1,.58,1.4,1.91,1.91,0,0,1-.58,1.4L9.25,21ZM18.45,9,17,7.55Zm-12,3A5.31,5.31,0,0,0,4.9,8.1,5.31,5.31,0,0,0,1,6.5,5.31,5.31,0,0,0,4.9,4.9,5.31,5.31,0,0,0,6.5,1,5.31,5.31,0,0,0,8.1,4.9,5.31,5.31,0,0,0,12,6.5,5.46,5.46,0,0,0,6.5,12Z\"/>\n",
              "  </svg>\n",
              "    </button>\n",
              "    <script>\n",
              "      (() => {\n",
              "      const buttonEl =\n",
              "        document.querySelector('#id_75900451-cc75-48bc-b78f-b8c7d1d6ac7d button.colab-df-generate');\n",
              "      buttonEl.style.display =\n",
              "        google.colab.kernel.accessAllowed ? 'block' : 'none';\n",
              "\n",
              "      buttonEl.onclick = () => {\n",
              "        google.colab.notebook.generateWithVariable('data');\n",
              "      }\n",
              "      })();\n",
              "    </script>\n",
              "  </div>\n",
              "\n",
              "    </div>\n",
              "  </div>\n"
            ],
            "application/vnd.google.colaboratory.intrinsic+json": {
              "type": "dataframe",
              "variable_name": "data",
              "summary": "{\n  \"name\": \"data\",\n  \"rows\": 6745,\n  \"fields\": [\n    {\n      \"column\": \"Request id\",\n      \"properties\": {\n        \"dtype\": \"number\",\n        \"std\": 1955,\n        \"min\": 1,\n        \"max\": 6766,\n        \"num_unique_values\": 6745,\n        \"samples\": [\n          2761,\n          1342,\n          44\n        ],\n        \"semantic_type\": \"\",\n        \"description\": \"\"\n      }\n    },\n    {\n      \"column\": \"Pickup point\",\n      \"properties\": {\n        \"dtype\": \"category\",\n        \"num_unique_values\": 2,\n        \"samples\": [\n          \"City\",\n          \"Airport\"\n        ],\n        \"semantic_type\": \"\",\n        \"description\": \"\"\n      }\n    },\n    {\n      \"column\": \"Driver id\",\n      \"properties\": {\n        \"dtype\": \"category\",\n        \"num_unique_values\": 301,\n        \"samples\": [\n          \"178\",\n          \"290\"\n        ],\n        \"semantic_type\": \"\",\n        \"description\": \"\"\n      }\n    },\n    {\n      \"column\": \"Status\",\n      \"properties\": {\n        \"dtype\": \"category\",\n        \"num_unique_values\": 3,\n        \"samples\": [\n          \"Trip Completed\",\n          \"Cancelled\"\n        ],\n        \"semantic_type\": \"\",\n        \"description\": \"\"\n      }\n    },\n    {\n      \"column\": \"Request timestamp\",\n      \"properties\": {\n        \"dtype\": \"string\",\n        \"num_unique_values\": 4016,\n        \"samples\": [\n          \"14-07-2016 18:36\",\n          \"13-07-2016 12:02\"\n        ],\n        \"semantic_type\": \"\",\n        \"description\": \"\"\n      }\n    },\n    {\n      \"column\": \"Drop timestamp\",\n      \"properties\": {\n        \"dtype\": \"category\",\n        \"num_unique_values\": 2283,\n        \"samples\": [\n          \"13-07-2016 23:52\",\n          \"13-07-2016 14:04\"\n        ],\n        \"semantic_type\": \"\",\n        \"description\": \"\"\n      }\n    },\n    {\n      \"column\": \"Request Date\",\n      \"properties\": {\n        \"dtype\": \"category\",\n        \"num_unique_values\": 5,\n        \"samples\": [\n          \"07-12-2016\",\n          \"15-07-2016\"\n        ],\n        \"semantic_type\": \"\",\n        \"description\": \"\"\n      }\n    },\n    {\n      \"column\": \"Request Day\",\n      \"properties\": {\n        \"dtype\": \"category\",\n        \"num_unique_values\": 4,\n        \"samples\": [\n          \"Wednesday\",\n          \"Friday\"\n        ],\n        \"semantic_type\": \"\",\n        \"description\": \"\"\n      }\n    },\n    {\n      \"column\": \"Trip Duration (mins)\",\n      \"properties\": {\n        \"dtype\": \"category\",\n        \"num_unique_values\": 1349,\n        \"samples\": [\n          \"54.21666667\",\n          \"68.61666667\"\n        ],\n        \"semantic_type\": \"\",\n        \"description\": \"\"\n      }\n    },\n    {\n      \"column\": \"Is Driver Assigned\",\n      \"properties\": {\n        \"dtype\": \"category\",\n        \"num_unique_values\": 2,\n        \"samples\": [\n          \"No\",\n          \"Yes\"\n        ],\n        \"semantic_type\": \"\",\n        \"description\": \"\"\n      }\n    },\n    {\n      \"column\": \"Was Completed\",\n      \"properties\": {\n        \"dtype\": \"category\",\n        \"num_unique_values\": 2,\n        \"samples\": [\n          \"No\",\n          \"Yes\"\n        ],\n        \"semantic_type\": \"\",\n        \"description\": \"\"\n      }\n    },\n    {\n      \"column\": \"Pickup_Airport\",\n      \"properties\": {\n        \"dtype\": \"number\",\n        \"std\": 0,\n        \"min\": 0,\n        \"max\": 1,\n        \"num_unique_values\": 2,\n        \"samples\": [\n          0,\n          1\n        ],\n        \"semantic_type\": \"\",\n        \"description\": \"\"\n      }\n    },\n    {\n      \"column\": \"Request Period\",\n      \"properties\": {\n        \"dtype\": \"category\",\n        \"num_unique_values\": 4,\n        \"samples\": [\n          \"Evening\",\n          \"Afternoon\"\n        ],\n        \"semantic_type\": \"\",\n        \"description\": \"\"\n      }\n    }\n  ]\n}"
            }
          },
          "metadata": {},
          "execution_count": 98
        }
      ]
    },
    {
      "cell_type": "markdown",
      "source": [
        "###SCATTER PLOT"
      ],
      "metadata": {
        "id": "io4SEurHZ2tD"
      }
    },
    {
      "cell_type": "markdown",
      "source": [
        "A scatter plot is a type of data visualization that uses dots to represent the values of two numerical variables. Scatter plots are used to observe relationships between variables."
      ],
      "metadata": {
        "id": "CrJogbCaZ6ZC"
      }
    },
    {
      "cell_type": "markdown",
      "source": [
        "###Scatter plot of Status and Is Driver Assigned\n",
        "\n",
        "\n"
      ],
      "metadata": {
        "id": "dSvo97PyaUfg"
      }
    },
    {
      "cell_type": "code",
      "source": [
        "sns.scatterplot(data = data, y ='Status', x ='Pickup_Airport', color='navy')\n",
        "plt.title('Scatter plot of Status and Pickup_Airport\\n',color='black')\n",
        "plt.show()"
      ],
      "metadata": {
        "colab": {
          "base_uri": "https://localhost:8080/",
          "height": 493
        },
        "id": "FQkPttA7Z5pC",
        "outputId": "751b8be0-2da0-441e-b342-e4e2959cefe8"
      },
      "execution_count": null,
      "outputs": [
        {
          "output_type": "display_data",
          "data": {
            "text/plain": [
              "<Figure size 640x480 with 1 Axes>"
            ],
            "image/png": "[encoded data removed]"
          },
          "metadata": {}
        }
      ]
    },
    {
      "cell_type": "markdown",
      "source": [
        "###Insights"
      ],
      "metadata": {
        "id": "FKz0VO7McFzV"
      }
    },
    {
      "cell_type": "markdown",
      "source": [
        "\"No Cars Available\" seems prominent at the airport (1), indicating a stronger supply shortage in that zone.\n",
        "\n",
        "\"Cancelled\" and \"Trip Completed\" are more evenly distributed across both locations, suggesting cancellation might be driven by factors other than just pickup point (e.g., time of day or driver behavior)."
      ],
      "metadata": {
        "id": "WKbYn6_1cHBY"
      }
    },
    {
      "cell_type": "markdown",
      "source": [
        "###LINE PLOT"
      ],
      "metadata": {
        "id": "JlL136RicVHQ"
      }
    },
    {
      "cell_type": "markdown",
      "source": [
        "Line Plot Connects data points with a line to show trends over time across continuous variable."
      ],
      "metadata": {
        "id": "mnRPeNTjczMy"
      }
    },
    {
      "cell_type": "markdown",
      "source": [
        "###Line plot of Is Driver Assigned v/s Status"
      ],
      "metadata": {
        "id": "4CDVTHq6c2-p"
      }
    },
    {
      "cell_type": "code",
      "source": [
        "plt.figure(figsize=(8,6))\n",
        "sns.lineplot(data = data, y ='Is Driver Assigned', x ='Status', color='blue')\n",
        "plt.title('Line plot of Is Driver Assigned v/s Status\\n',color='brown')\n",
        "plt.show()"
      ],
      "metadata": {
        "colab": {
          "base_uri": "https://localhost:8080/",
          "height": 585
        },
        "id": "aQs1N2HkcGip",
        "outputId": "68aae5c2-defa-4d30-b6a0-da2f06fc7d15"
      },
      "execution_count": null,
      "outputs": [
        {
          "output_type": "display_data",
          "data": {
            "text/plain": [
              "<Figure size 800x600 with 1 Axes>"
            ],
            "image/png": "[encoded data removed]"
          },
          "metadata": {}
        }
      ]
    },
    {
      "cell_type": "markdown",
      "source": [
        "###Insights"
      ],
      "metadata": {
        "id": "lvVpdMIQdwvW"
      }
    },
    {
      "cell_type": "markdown",
      "source": [
        "1. Drivers were assigned in all cases where the trip was either completed or cancelled.\n",
        "2. No driver was assigned when the status showed \"No Cars Available\".\n",
        "3. This indicates that driver availability directly impacts service completion or cancellation.\n"
      ],
      "metadata": {
        "id": "jYSFG5JbeAsZ"
      }
    },
    {
      "cell_type": "markdown",
      "source": [
        "###PIE CHART"
      ],
      "metadata": {
        "id": "yCpYVq-TeMhg"
      }
    },
    {
      "cell_type": "markdown",
      "source": [
        "Pie chart is used to visualize the proportions of different categories within a whole dataset. I's circular statistical graph, where each slice of the pie represents a category, and the size of the slice is proportional to the category's contribution to the overall data."
      ],
      "metadata": {
        "id": "P3gBdEEcePuW"
      }
    },
    {
      "cell_type": "code",
      "source": [
        "plt.figure(figsize=(8,6))\n",
        "plt.pie(data['Request Period'].value_counts(), labels=data['Request Period'].value_counts().index, autopct='%.2f%%')\n",
        "plt.title('Pie chart of Request Period \\n', color = 'black')\n",
        "plt.show()"
      ],
      "metadata": {
        "colab": {
          "base_uri": "https://localhost:8080/",
          "height": 542
        },
        "id": "7vtHUbGldxWE",
        "outputId": "3c02657a-b7f2-45c1-9351-ab1c177c0d22"
      },
      "execution_count": null,
      "outputs": [
        {
          "output_type": "display_data",
          "data": {
            "text/plain": [
              "<Figure size 800x600 with 1 Axes>"
            ],
            "image/png": "[encoded data removed]"
          },
          "metadata": {}
        }
      ]
    },
    {
      "cell_type": "markdown",
      "source": [
        "###Insights"
      ],
      "metadata": {
        "id": "8lMXeEeTfNnt"
      }
    },
    {
      "cell_type": "markdown",
      "source": [
        "1. Morning is the most active request period, making up 37.32% of total requests.\n",
        "2. Evening follows with 28.07%, indicating high user activity during this time as well.\n",
        "3. Afternoon sees the least activity, contributing only 12.01% of the requests.\n"
      ],
      "metadata": {
        "id": "GzNgZt0yface"
      }
    },
    {
      "cell_type": "markdown",
      "source": [
        "###Pie chart of Request Day"
      ],
      "metadata": {
        "id": "jA_hAotZfeY9"
      }
    },
    {
      "cell_type": "code",
      "source": [
        "d=data['Request Day'].value_counts()\n",
        "d"
      ],
      "metadata": {
        "colab": {
          "base_uri": "https://localhost:8080/",
          "height": 241
        },
        "id": "8bQTB8cLhNvJ",
        "outputId": "35554db8-302c-4d03-ff27-439c0853cb0b"
      },
      "execution_count": null,
      "outputs": [
        {
          "output_type": "execute_result",
          "data": {
            "text/plain": [
              "Request Day\n",
              "Wednesday    2644\n",
              "Friday       1381\n",
              "Monday       1367\n",
              "Thursday     1353\n",
              "Name: count, dtype: int64"
            ],
            "text/html": [
              "<div>\n",
              "<style scoped>\n",
              "    .dataframe tbody tr th:only-of-type {\n",
              "        vertical-align: middle;\n",
              "    }\n",
              "\n",
              "    .dataframe tbody tr th {\n",
              "        vertical-align: top;\n",
              "    }\n",
              "\n",
              "    .dataframe thead th {\n",
              "        text-align: right;\n",
              "    }\n",
              "</style>\n",
              "<table border=\"1\" class=\"dataframe\">\n",
              "  <thead>\n",
              "    <tr style=\"text-align: right;\">\n",
              "      <th></th>\n",
              "      <th>count</th>\n",
              "    </tr>\n",
              "    <tr>\n",
              "      <th>Request Day</th>\n",
              "      <th></th>\n",
              "    </tr>\n",
              "  </thead>\n",
              "  <tbody>\n",
              "    <tr>\n",
              "      <th>Wednesday</th>\n",
              "      <td>2644</td>\n",
              "    </tr>\n",
              "    <tr>\n",
              "      <th>Friday</th>\n",
              "      <td>1381</td>\n",
              "    </tr>\n",
              "    <tr>\n",
              "      <th>Monday</th>\n",
              "      <td>1367</td>\n",
              "    </tr>\n",
              "    <tr>\n",
              "      <th>Thursday</th>\n",
              "      <td>1353</td>\n",
              "    </tr>\n",
              "  </tbody>\n",
              "</table>\n",
              "</div><br><label><b>dtype:</b> int64</label>"
            ]
          },
          "metadata": {},
          "execution_count": 116
        }
      ]
    },
    {
      "cell_type": "code",
      "source": [
        "import plotly.express as px\n",
        "fig = px.pie(values=d, names=d.index, title='Pie chart of Request Day')\n",
        "fig.show()"
      ],
      "metadata": {
        "colab": {
          "base_uri": "https://localhost:8080/",
          "height": 542
        },
        "id": "rYF7CPKbfdfN",
        "outputId": "004f3e41-6de0-4ed3-babb-51afd8493072"
      },
      "execution_count": null,
      "outputs": [
        {
          "output_type": "display_data",
          "data": {
            "text/html": [
              "<html>\n",
              "<head><meta charset=\"utf-8\" /></head>\n",
              "<body>\n",
              "    <div>            <script src=\"https://cdnjs.cloudflare.com/ajax/libs/mathjax/2.7.5/MathJax.js?config=TeX-AMS-MML_SVG\"></script><script type=\"text/javascript\">if (window.MathJax && window.MathJax.Hub && window.MathJax.Hub.Config) {window.MathJax.Hub.Config({SVG: {font: \"STIX-Web\"}});}</script>                <script type=\"text/javascript\">window.PlotlyConfig = {MathJaxConfig: 'local'};</script>\n",
              "        <script charset=\"utf-8\" src=\"https://cdn.plot.ly/plotly-2.35.2.min.js\"></script>                <div id=\"7ddfb662-a661-4c94-be3d-2dc76da7b3ad\" class=\"plotly-graph-div\" style=\"height:525px; width:100%;\"></div>            <script type=\"text/javascript\">                                    window.PLOTLYENV=window.PLOTLYENV || {};                                    if (document.getElementById(\"7ddfb662-a661-4c94-be3d-2dc76da7b3ad\")) {                    Plotly.newPlot(                        \"7ddfb662-a661-4c94-be3d-2dc76da7b3ad\",                        [{\"domain\":{\"x\":[0.0,1.0],\"y\":[0.0,1.0]},\"hovertemplate\":\"label=%{label}\\u003cbr\\u003evalue=%{value}\\u003cextra\\u003e\\u003c\\u002fextra\\u003e\",\"labels\":[\"Wednesday\",\"Friday\",\"Monday\",\"Thursday\"],\"legendgroup\":\"\",\"name\":\"\",\"showlegend\":true,\"values\":[2644,1381,1367,1353],\"type\":\"pie\"}],                        {\"template\":{\"data\":{\"histogram2dcontour\":[{\"type\":\"histogram2dcontour\",\"colorbar\":{\"outlinewidth\":0,\"ticks\":\"\"},\"colorscale\":[[0.0,\"#0d0887\"],[0.1111111111111111,\"#46039f\"],[0.2222222222222222,\"#7201a8\"],[0.3333333333333333,\"#9c179e\"],[0.4444444444444444,\"#bd3786\"],[0.5555555555555556,\"#d8576b\"],[0.6666666666666666,\"#ed7953\"],[0.7777777777777778,\"#fb9f3a\"],[0.8888888888888888,\"#fdca26\"],[1.0,\"#f0f921\"]]}],\"choropleth\":[{\"type\":\"choropleth\",\"colorbar\":{\"outlinewidth\":0,\"ticks\":\"\"}}],\"histogram2d\":[{\"type\":\"histogram2d\",\"colorbar\":{\"outlinewidth\":0,\"ticks\":\"\"},\"colorscale\":[[0.0,\"#0d0887\"],[0.1111111111111111,\"#46039f\"],[0.2222222222222222,\"#7201a8\"],[0.3333333333333333,\"#9c179e\"],[0.4444444444444444,\"#bd3786\"],[0.5555555555555556,\"#d8576b\"],[0.6666666666666666,\"#ed7953\"],[0.7777777777777778,\"#fb9f3a\"],[0.8888888888888888,\"#fdca26\"],[1.0,\"#f0f921\"]]}],\"heatmap\":[{\"type\":\"heatmap\",\"colorbar\":{\"outlinewidth\":0,\"ticks\":\"\"},\"colorscale\":[[0.0,\"#0d0887\"],[0.1111111111111111,\"#46039f\"],[0.2222222222222222,\"#7201a8\"],[0.3333333333333333,\"#9c179e\"],[0.4444444444444444,\"#bd3786\"],[0.5555555555555556,\"#d8576b\"],[0.6666666666666666,\"#ed7953\"],[0.7777777777777778,\"#fb9f3a\"],[0.8888888888888888,\"#fdca26\"],[1.0,\"#f0f921\"]]}],\"heatmapgl\":[{\"type\":\"heatmapgl\",\"colorbar\":{\"outlinewidth\":0,\"ticks\":\"\"},\"colorscale\":[[0.0,\"#0d0887\"],[0.1111111111111111,\"#46039f\"],[0.2222222222222222,\"#7201a8\"],[0.3333333333333333,\"#9c179e\"],[0.4444444444444444,\"#bd3786\"],[0.5555555555555556,\"#d8576b\"],[0.6666666666666666,\"#ed7953\"],[0.7777777777777778,\"#fb9f3a\"],[0.8888888888888888,\"#fdca26\"],[1.0,\"#f0f921\"]]}],\"contourcarpet\":[{\"type\":\"contourcarpet\",\"colorbar\":{\"outlinewidth\":0,\"ticks\":\"\"}}],\"contour\":[{\"type\":\"contour\",\"colorbar\":{\"outlinewidth\":0,\"ticks\":\"\"},\"colorscale\":[[0.0,\"#0d0887\"],[0.1111111111111111,\"#46039f\"],[0.2222222222222222,\"#7201a8\"],[0.3333333333333333,\"#9c179e\"],[0.4444444444444444,\"#bd3786\"],[0.5555555555555556,\"#d8576b\"],[0.6666666666666666,\"#ed7953\"],[0.7777777777777778,\"#fb9f3a\"],[0.8888888888888888,\"#fdca26\"],[1.0,\"#f0f921\"]]}],\"surface\":[{\"type\":\"surface\",\"colorbar\":{\"outlinewidth\":0,\"ticks\":\"\"},\"colorscale\":[[0.0,\"#0d0887\"],[0.1111111111111111,\"#46039f\"],[0.2222222222222222,\"#7201a8\"],[0.3333333333333333,\"#9c179e\"],[0.4444444444444444,\"#bd3786\"],[0.5555555555555556,\"#d8576b\"],[0.6666666666666666,\"#ed7953\"],[0.7777777777777778,\"#fb9f3a\"],[0.8888888888888888,\"#fdca26\"],[1.0,\"#f0f921\"]]}],\"mesh3d\":[{\"type\":\"mesh3d\",\"colorbar\":{\"outlinewidth\":0,\"ticks\":\"\"}}],\"scatter\":[{\"fillpattern\":{\"fillmode\":\"overlay\",\"size\":10,\"solidity\":0.2},\"type\":\"scatter\"}],\"parcoords\":[{\"type\":\"parcoords\",\"line\":{\"colorbar\":{\"outlinewidth\":0,\"ticks\":\"\"}}}],\"scatterpolargl\":[{\"type\":\"scatterpolargl\",\"marker\":{\"colorbar\":{\"outlinewidth\":0,\"ticks\":\"\"}}}],\"bar\":[{\"error_x\":{\"color\":\"#2a3f5f\"},\"error_y\":{\"color\":\"#2a3f5f\"},\"marker\":{\"line\":{\"color\":\"#E5ECF6\",\"width\":0.5},\"pattern\":{\"fillmode\":\"overlay\",\"size\":10,\"solidity\":0.2}},\"type\":\"bar\"}],\"scattergeo\":[{\"type\":\"scattergeo\",\"marker\":{\"colorbar\":{\"outlinewidth\":0,\"ticks\":\"\"}}}],\"scatterpolar\":[{\"type\":\"scatterpolar\",\"marker\":{\"colorbar\":{\"outlinewidth\":0,\"ticks\":\"\"}}}],\"histogram\":[{\"marker\":{\"pattern\":{\"fillmode\":\"overlay\",\"size\":10,\"solidity\":0.2}},\"type\":\"histogram\"}],\"scattergl\":[{\"type\":\"scattergl\",\"marker\":{\"colorbar\":{\"outlinewidth\":0,\"ticks\":\"\"}}}],\"scatter3d\":[{\"type\":\"scatter3d\",\"line\":{\"colorbar\":{\"outlinewidth\":0,\"ticks\":\"\"}},\"marker\":{\"colorbar\":{\"outlinewidth\":0,\"ticks\":\"\"}}}],\"scattermapbox\":[{\"type\":\"scattermapbox\",\"marker\":{\"colorbar\":{\"outlinewidth\":0,\"ticks\":\"\"}}}],\"scatterternary\":[{\"type\":\"scatterternary\",\"marker\":{\"colorbar\":{\"outlinewidth\":0,\"ticks\":\"\"}}}],\"scattercarpet\":[{\"type\":\"scattercarpet\",\"marker\":{\"colorbar\":{\"outlinewidth\":0,\"ticks\":\"\"}}}],\"carpet\":[{\"aaxis\":{\"endlinecolor\":\"#2a3f5f\",\"gridcolor\":\"white\",\"linecolor\":\"white\",\"minorgridcolor\":\"white\",\"startlinecolor\":\"#2a3f5f\"},\"baxis\":{\"endlinecolor\":\"#2a3f5f\",\"gridcolor\":\"white\",\"linecolor\":\"white\",\"minorgridcolor\":\"white\",\"startlinecolor\":\"#2a3f5f\"},\"type\":\"carpet\"}],\"table\":[{\"cells\":{\"fill\":{\"color\":\"#EBF0F8\"},\"line\":{\"color\":\"white\"}},\"header\":{\"fill\":{\"color\":\"#C8D4E3\"},\"line\":{\"color\":\"white\"}},\"type\":\"table\"}],\"barpolar\":[{\"marker\":{\"line\":{\"color\":\"#E5ECF6\",\"width\":0.5},\"pattern\":{\"fillmode\":\"overlay\",\"size\":10,\"solidity\":0.2}},\"type\":\"barpolar\"}],\"pie\":[{\"automargin\":true,\"type\":\"pie\"}]},\"layout\":{\"autotypenumbers\":\"strict\",\"colorway\":[\"#636efa\",\"#EF553B\",\"#00cc96\",\"#ab63fa\",\"#FFA15A\",\"#19d3f3\",\"#FF6692\",\"#B6E880\",\"#FF97FF\",\"#FECB52\"],\"font\":{\"color\":\"#2a3f5f\"},\"hovermode\":\"closest\",\"hoverlabel\":{\"align\":\"left\"},\"paper_bgcolor\":\"white\",\"plot_bgcolor\":\"#E5ECF6\",\"polar\":{\"bgcolor\":\"#E5ECF6\",\"angularaxis\":{\"gridcolor\":\"white\",\"linecolor\":\"white\",\"ticks\":\"\"},\"radialaxis\":{\"gridcolor\":\"white\",\"linecolor\":\"white\",\"ticks\":\"\"}},\"ternary\":{\"bgcolor\":\"#E5ECF6\",\"aaxis\":{\"gridcolor\":\"white\",\"linecolor\":\"white\",\"ticks\":\"\"},\"baxis\":{\"gridcolor\":\"white\",\"linecolor\":\"white\",\"ticks\":\"\"},\"caxis\":{\"gridcolor\":\"white\",\"linecolor\":\"white\",\"ticks\":\"\"}},\"coloraxis\":{\"colorbar\":{\"outlinewidth\":0,\"ticks\":\"\"}},\"colorscale\":{\"sequential\":[[0.0,\"#0d0887\"],[0.1111111111111111,\"#46039f\"],[0.2222222222222222,\"#7201a8\"],[0.3333333333333333,\"#9c179e\"],[0.4444444444444444,\"#bd3786\"],[0.5555555555555556,\"#d8576b\"],[0.6666666666666666,\"#ed7953\"],[0.7777777777777778,\"#fb9f3a\"],[0.8888888888888888,\"#fdca26\"],[1.0,\"#f0f921\"]],\"sequentialminus\":[[0.0,\"#0d0887\"],[0.1111111111111111,\"#46039f\"],[0.2222222222222222,\"#7201a8\"],[0.3333333333333333,\"#9c179e\"],[0.4444444444444444,\"#bd3786\"],[0.5555555555555556,\"#d8576b\"],[0.6666666666666666,\"#ed7953\"],[0.7777777777777778,\"#fb9f3a\"],[0.8888888888888888,\"#fdca26\"],[1.0,\"#f0f921\"]],\"diverging\":[[0,\"#8e0152\"],[0.1,\"#c51b7d\"],[0.2,\"#de77ae\"],[0.3,\"#f1b6da\"],[0.4,\"#fde0ef\"],[0.5,\"#f7f7f7\"],[0.6,\"#e6f5d0\"],[0.7,\"#b8e186\"],[0.8,\"#7fbc41\"],[0.9,\"#4d9221\"],[1,\"#276419\"]]},\"xaxis\":{\"gridcolor\":\"white\",\"linecolor\":\"white\",\"ticks\":\"\",\"title\":{\"standoff\":15},\"zerolinecolor\":\"white\",\"automargin\":true,\"zerolinewidth\":2},\"yaxis\":{\"gridcolor\":\"white\",\"linecolor\":\"white\",\"ticks\":\"\",\"title\":{\"standoff\":15},\"zerolinecolor\":\"white\",\"automargin\":true,\"zerolinewidth\":2},\"scene\":{\"xaxis\":{\"backgroundcolor\":\"#E5ECF6\",\"gridcolor\":\"white\",\"linecolor\":\"white\",\"showbackground\":true,\"ticks\":\"\",\"zerolinecolor\":\"white\",\"gridwidth\":2},\"yaxis\":{\"backgroundcolor\":\"#E5ECF6\",\"gridcolor\":\"white\",\"linecolor\":\"white\",\"showbackground\":true,\"ticks\":\"\",\"zerolinecolor\":\"white\",\"gridwidth\":2},\"zaxis\":{\"backgroundcolor\":\"#E5ECF6\",\"gridcolor\":\"white\",\"linecolor\":\"white\",\"showbackground\":true,\"ticks\":\"\",\"zerolinecolor\":\"white\",\"gridwidth\":2}},\"shapedefaults\":{\"line\":{\"color\":\"#2a3f5f\"}},\"annotationdefaults\":{\"arrowcolor\":\"#2a3f5f\",\"arrowhead\":0,\"arrowwidth\":1},\"geo\":{\"bgcolor\":\"white\",\"landcolor\":\"#E5ECF6\",\"subunitcolor\":\"white\",\"showland\":true,\"showlakes\":true,\"lakecolor\":\"white\"},\"title\":{\"x\":0.05},\"mapbox\":{\"style\":\"light\"}}},\"legend\":{\"tracegroupgap\":0},\"title\":{\"text\":\"Pie chart of Request Day\"}},                        {\"responsive\": true}                    ).then(function(){\n",
              "                            \n",
              "var gd = document.getElementById('7ddfb662-a661-4c94-be3d-2dc76da7b3ad');\n",
              "var x = new MutationObserver(function (mutations, observer) {{\n",
              "        var display = window.getComputedStyle(gd).display;\n",
              "        if (!display || display === 'none') {{\n",
              "            console.log([gd, 'removed!']);\n",
              "            Plotly.purge(gd);\n",
              "            observer.disconnect();\n",
              "        }}\n",
              "}});\n",
              "\n",
              "// Listen for the removal of the full notebook cells\n",
              "var notebookContainer = gd.closest('#notebook-container');\n",
              "if (notebookContainer) {{\n",
              "    x.observe(notebookContainer, {childList: true});\n",
              "}}\n",
              "\n",
              "// Listen for the clearing of the current output cell\n",
              "var outputEl = gd.closest('.output');\n",
              "if (outputEl) {{\n",
              "    x.observe(outputEl, {childList: true});\n",
              "}}\n",
              "\n",
              "                        })                };                            </script>        </div>\n",
              "</body>\n",
              "</html>"
            ]
          },
          "metadata": {}
        }
      ]
    },
    {
      "cell_type": "markdown",
      "source": [
        "###Insights"
      ],
      "metadata": {
        "id": "TDny7_MJf2Xk"
      }
    },
    {
      "cell_type": "markdown",
      "source": [
        "Wednesday dominates ride requests with 39.20%, indicating a mid-week spike in demand.\n",
        "\n",
        "Monday, Thursday, and Friday each contribute around 20%, showing balanced demand across those days.\n",
        "\n",
        "The clear mid-week peak suggests operational planning (like driver availability) should be optimized for Wednesdays."
      ],
      "metadata": {
        "id": "hKki9_g6f3VA"
      }
    },
    {
      "cell_type": "markdown",
      "source": [
        "###Multivariable Analysis"
      ],
      "metadata": {
        "id": "gUM_03y0hisg"
      }
    },
    {
      "cell_type": "markdown",
      "source": [
        "###PAIR PLOT"
      ],
      "metadata": {
        "id": "ejBHqv7whoLw"
      }
    },
    {
      "cell_type": "markdown",
      "source": [
        "Pair plot visualizes the pairwise relationship between variables. It includes scatter plots for relationships and histogram or density plots for individual distributions."
      ],
      "metadata": {
        "id": "Uk4YH0pehplu"
      }
    },
    {
      "cell_type": "code",
      "source": [
        "sns.pairplot(data)\n",
        "plt.show()"
      ],
      "metadata": {
        "colab": {
          "base_uri": "https://localhost:8080/",
          "height": 513
        },
        "id": "0Hj6OAFff13H",
        "outputId": "6a5bcabe-8945-43bc-8136-0639c286867c"
      },
      "execution_count": null,
      "outputs": [
        {
          "output_type": "display_data",
          "data": {
            "text/plain": [
              "<Figure size 500x500 with 6 Axes>"
            ],
            "image/png": "[encoded data removed]"
          },
          "metadata": {}
        }
      ]
    },
    {
      "cell_type": "markdown",
      "source": [
        "###HEATMAP"
      ],
      "metadata": {
        "id": "zB1NOJ7OiHn1"
      }
    },
    {
      "cell_type": "markdown",
      "source": [
        "A heatmap uses color intensities to represent the strength of relationships correlation between numeric variables in a dataset.\n"
      ],
      "metadata": {
        "id": "mutdCV--iNmE"
      }
    },
    {
      "cell_type": "code",
      "source": [
        "num_col=data.select_dtypes(include =['int64','float64'])"
      ],
      "metadata": {
        "id": "gk88bzCtiIIN"
      },
      "execution_count": null,
      "outputs": []
    },
    {
      "cell_type": "code",
      "source": [
        "plt.figure(figsize=(10,8))\n",
        "sns.heatmap(num_col.corr(), annot=True, cmap='coolwarm')\n",
        "plt.show()"
      ],
      "metadata": {
        "colab": {
          "base_uri": "https://localhost:8080/",
          "height": 682
        },
        "id": "-8TQDDFQiWPa",
        "outputId": "eba1b387-4518-4371-a663-72f8a186385e"
      },
      "execution_count": null,
      "outputs": [
        {
          "output_type": "display_data",
          "data": {
            "text/plain": [
              "<Figure size 1000x800 with 2 Axes>"
            ],
            "image/png": "[encoded data removed]"
          },
          "metadata": {}
        }
      ]
    },
    {
      "cell_type": "markdown",
      "source": [
        "##Conclusion"
      ],
      "metadata": {
        "id": "hOPqb4NzihhS"
      }
    },
    {
      "cell_type": "markdown",
      "source": [
        "This Exploratory Data Analysis (EDA) provides a comprehensive view of Uber's ride request patterns, uncovering critical insights into supply-demand mismatches, peak usage times, and operational inefficiencies.\n",
        "\n",
        "Supply-Demand Mismatch:\n",
        "More rides were not completed than completed, highlighting a significant imbalance between rider demand and driver availability. The high frequency of unfulfilled rides—especially due to the \"No Cars Available\" status—underscores the urgent need to improve driver allocation strategies, particularly during high-demand periods.\n",
        "\n",
        "Driver Assignment Trends:\n",
        "While the system successfully assigns drivers in most cases, approximately 40% of requests receive no driver, especially in high-demand zones like airports. This presents a clear opportunity for Uber to implement smarter scheduling, dynamic driver dispatching, and incentives for underserved areas.\n",
        "\n",
        "Temporal Patterns in Demand:\n",
        "Request volumes peak during the morning commute hours (37.32%), followed by evening travel times (28.07%), suggesting a two-peak daily cycle. The afternoon period sees the least activity, representing a potential window for driver rest or maintenance.\n",
        "\n",
        "Day-Wise Request Patterns:\n",
        "Requests remain relatively stable across the weekdays, with Wednesday standing out (39.20%) as the highest-demand day. This indicates the need for mid-week operational scaling, such as increased driver availability and better demand forecasting.\n",
        "\n",
        "Pickup Point Impact:\n",
        "Both city and airport pickup points show significant demand. However, \"No Cars Available\" incidents are notably higher at the airport, revealing a supply gap in that area. Meanwhile, completed and cancelled trips are more evenly distributed, suggesting cancellations may be due to factors beyond location—like time pressure or service delays.\n",
        "\n",
        "Service Status Insights:\n",
        "Trips marked as \"Completed\" and \"Cancelled\" always had a driver assigned, while \"No Cars Available\" status had none—clearly indicating that driver availability is the determining factor for whether a trip proceeds or fails.\n",
        "\n",
        "In conclusion, this analysis highlights urgent areas for operational improvements such as targeted driver allocation, peak-time incentives, and zone-based supply planning. These insights can guide Uber’s logistics, strategy, and data science teams to make informed, data-driven decisions to reduce service gaps and enhance rider satisfaction. This foundational analysis can also be expanded into predictive demand modeling or real-time driver routing for even greater efficiency."
      ],
      "metadata": {
        "id": "06EAuLEtic74"
      }
    }
  ]
}